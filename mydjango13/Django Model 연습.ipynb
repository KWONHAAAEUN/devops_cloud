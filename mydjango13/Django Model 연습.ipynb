{
 "cells": [
  {
   "cell_type": "code",
   "execution_count": 1,
   "id": "8668906f",
   "metadata": {},
   "outputs": [],
   "source": [
    "import os\n",
    "os.environ[\"DJANGO_SETTINGS_MODULE\"]=\"mydjango13.settings\"\n",
    "os.environ[\"DJANGO_ALLOW_ASYNC_UNSAFE\"] = \"true\"\n",
    "\n",
    "import django\n",
    "django.setup()"
   ]
  },
  {
   "cell_type": "code",
   "execution_count": 2,
   "id": "50243bcd",
   "metadata": {},
   "outputs": [],
   "source": [
    "from mall.models import Shop"
   ]
  },
  {
   "cell_type": "code",
   "execution_count": 3,
   "id": "7aef383a",
   "metadata": {},
   "outputs": [
    {
     "name": "stderr",
     "output_type": "stream",
     "text": [
      "(0.000) SELECT \"mall_shop\".\"id\", \"mall_shop\".\"name\", \"mall_shop\".\"description\", \"mall_shop\".\"telephone\", \"mall_shop\".\"photo\", \"mall_shop\".\"created_at\", \"mall_shop\".\"updated_at\" FROM \"mall_shop\" ORDER BY \"mall_shop\".\"id\" DESC LIMIT 21; args=()\n"
     ]
    },
    {
     "data": {
      "text/plain": [
       "<QuerySet [<Shop: Shop object (102)>, <Shop: Shop object (101)>, <Shop: Shop object (100)>, <Shop: Shop object (99)>, <Shop: Shop object (98)>, <Shop: Shop object (97)>, <Shop: Shop object (96)>, <Shop: Shop object (95)>, <Shop: Shop object (94)>, <Shop: Shop object (93)>, <Shop: Shop object (92)>, <Shop: Shop object (91)>, <Shop: Shop object (90)>, <Shop: Shop object (89)>, <Shop: Shop object (88)>, <Shop: Shop object (87)>, <Shop: Shop object (86)>, <Shop: Shop object (85)>, <Shop: Shop object (84)>, <Shop: Shop object (83)>, '...(remaining elements truncated)...']>"
      ]
     },
     "execution_count": 3,
     "metadata": {},
     "output_type": "execute_result"
    }
   ],
   "source": [
    "Shop.objects.all()"
   ]
  },
  {
   "cell_type": "code",
   "execution_count": 4,
   "id": "db6cfcd6",
   "metadata": {},
   "outputs": [
    {
     "data": {
      "text/plain": [
       "mall.models.Shop"
      ]
     },
     "execution_count": 4,
     "metadata": {},
     "output_type": "execute_result"
    }
   ],
   "source": [
    "Shop"
   ]
  },
  {
   "cell_type": "markdown",
   "id": "017c02fc",
   "metadata": {},
   "source": [
    "# Create"
   ]
  },
  {
   "cell_type": "code",
   "execution_count": null,
   "id": "a4c108a5",
   "metadata": {},
   "outputs": [],
   "source": [
    "shop = Shop() # class name은 대문자로 시작\n",
    "shop.name=\"투썸플레이스\"\n",
    "shop.telephone=\"042-1234-1234\""
   ]
  },
  {
   "cell_type": "code",
   "execution_count": null,
   "id": "c18b0fa6",
   "metadata": {},
   "outputs": [],
   "source": [
    "shop.save()"
   ]
  },
  {
   "cell_type": "code",
   "execution_count": null,
   "id": "258410a0",
   "metadata": {},
   "outputs": [],
   "source": []
  },
  {
   "cell_type": "code",
   "execution_count": null,
   "id": "5e7a9688",
   "metadata": {},
   "outputs": [],
   "source": [
    "shop=Shop.objects.create(\n",
    "    name=\"셀프24시빨래방\",\n",
    "    telephone=\"042-9876-9876\",\n",
    ")\n",
    "shop"
   ]
  },
  {
   "cell_type": "code",
   "execution_count": null,
   "id": "25b2f7ca",
   "metadata": {},
   "outputs": [],
   "source": []
  },
  {
   "cell_type": "markdown",
   "id": "8feb2854",
   "metadata": {},
   "source": [
    "# Select"
   ]
  },
  {
   "cell_type": "code",
   "execution_count": null,
   "id": "621ec630",
   "metadata": {},
   "outputs": [],
   "source": [
    "qs= Shop.objects.all()"
   ]
  },
  {
   "cell_type": "code",
   "execution_count": null,
   "id": "0563a840",
   "metadata": {},
   "outputs": [],
   "source": [
    "for shop in qs:\n",
    "    print(shop.pk, shop.name, shop.telephone)"
   ]
  },
  {
   "cell_type": "code",
   "execution_count": null,
   "id": "44f4a761",
   "metadata": {},
   "outputs": [],
   "source": [
    "qs.order_by(\"-id\") #, \"created_at\") # -는 내림차순 정렬 (정렬은 가급적 단일 컬럼을 쓰기)"
   ]
  },
  {
   "cell_type": "code",
   "execution_count": null,
   "id": "9e9e8463",
   "metadata": {},
   "outputs": [],
   "source": []
  },
  {
   "cell_type": "markdown",
   "id": "21c6cd2b",
   "metadata": {},
   "source": [
    "# 데이터 뻥튀기"
   ]
  },
  {
   "cell_type": "code",
   "execution_count": null,
   "id": "741fc7df",
   "metadata": {},
   "outputs": [],
   "source": [
    "for i in range(1,101):\n",
    "    name = f\"가게명#{i}\"\n",
    "    telephone = f\"042-1234-9{i:03}\"\n",
    "    Shop.objects.create(\n",
    "        name=name,\n",
    "        telephone=telephone,\n",
    "    )"
   ]
  },
  {
   "cell_type": "code",
   "execution_count": null,
   "id": "a19d1d42",
   "metadata": {},
   "outputs": [],
   "source": []
  },
  {
   "cell_type": "markdown",
   "id": "1ed0daa9",
   "metadata": {},
   "source": [
    "# Slicing"
   ]
  },
  {
   "cell_type": "code",
   "execution_count": 6,
   "id": "b47be9b2",
   "metadata": {},
   "outputs": [],
   "source": [
    "qs=Shop.objects.all()"
   ]
  },
  {
   "cell_type": "code",
   "execution_count": 7,
   "id": "b9451889",
   "metadata": {},
   "outputs": [
    {
     "name": "stderr",
     "output_type": "stream",
     "text": [
      "(0.016) SELECT \"mall_shop\".\"id\", \"mall_shop\".\"name\", \"mall_shop\".\"description\", \"mall_shop\".\"telephone\", \"mall_shop\".\"photo\", \"mall_shop\".\"created_at\", \"mall_shop\".\"updated_at\" FROM \"mall_shop\" ORDER BY \"mall_shop\".\"id\" DESC LIMIT 10; args=()\n"
     ]
    },
    {
     "data": {
      "text/plain": [
       "<QuerySet [<Shop: Shop object (102)>, <Shop: Shop object (101)>, <Shop: Shop object (100)>, <Shop: Shop object (99)>, <Shop: Shop object (98)>, <Shop: Shop object (97)>, <Shop: Shop object (96)>, <Shop: Shop object (95)>, <Shop: Shop object (94)>, <Shop: Shop object (93)>]>"
      ]
     },
     "execution_count": 7,
     "metadata": {},
     "output_type": "execute_result"
    }
   ],
   "source": [
    "qs[:10] "
   ]
  },
  {
   "cell_type": "code",
   "execution_count": 8,
   "id": "e86944f5",
   "metadata": {},
   "outputs": [
    {
     "name": "stderr",
     "output_type": "stream",
     "text": [
      "(0.000) SELECT \"mall_shop\".\"id\", \"mall_shop\".\"name\", \"mall_shop\".\"description\", \"mall_shop\".\"telephone\", \"mall_shop\".\"photo\", \"mall_shop\".\"created_at\", \"mall_shop\".\"updated_at\" FROM \"mall_shop\" ORDER BY \"mall_shop\".\"id\" DESC LIMIT 10; args=()\n"
     ]
    },
    {
     "data": {
      "text/plain": [
       "[<Shop: Shop object (102)>,\n",
       " <Shop: Shop object (100)>,\n",
       " <Shop: Shop object (98)>,\n",
       " <Shop: Shop object (96)>,\n",
       " <Shop: Shop object (94)>]"
      ]
     },
     "execution_count": 8,
     "metadata": {},
     "output_type": "execute_result"
    }
   ],
   "source": [
    "qs[0:10:2]"
   ]
  },
  {
   "cell_type": "code",
   "execution_count": null,
   "id": "2ae41049",
   "metadata": {},
   "outputs": [],
   "source": [
    "qs[-10:] # last 10 rows -> 디비에서 지원 안함"
   ]
  },
  {
   "cell_type": "code",
   "execution_count": null,
   "id": "64f5be4b",
   "metadata": {},
   "outputs": [],
   "source": [
    "for shop in reversed(qs.order_by(\"id\")[:10]):\n",
    "    print(shop.pk, shop.name, shop.telephone)"
   ]
  },
  {
   "cell_type": "markdown",
   "id": "c29dcc15",
   "metadata": {},
   "source": [
    "# Conditions"
   ]
  },
  {
   "cell_type": "code",
   "execution_count": null,
   "id": "be48da79",
   "metadata": {},
   "outputs": [],
   "source": [
    "qs=Shop.objects.all()"
   ]
  },
  {
   "cell_type": "code",
   "execution_count": null,
   "id": "bba22305",
   "metadata": {},
   "outputs": [],
   "source": [
    "# filter <-> exclude\n",
    "\n",
    "qs.filter(pk=1)"
   ]
  },
  {
   "cell_type": "code",
   "execution_count": null,
   "id": "1e6b93d3",
   "metadata": {},
   "outputs": [],
   "source": [
    "qs.exclude(pk=1)"
   ]
  },
  {
   "cell_type": "code",
   "execution_count": null,
   "id": "948d7fee",
   "metadata": {},
   "outputs": [],
   "source": [
    "# lt: less than             <\n",
    "# lte: less than equal      <=\n",
    "# gt: greater than          >\n",
    "# gte: greather than equal  >=\n",
    "qs.filter(\n",
    "    pk__gte=5,\n",
    "    pk__lt=10, #less than\n",
    ")"
   ]
  },
  {
   "cell_type": "code",
   "execution_count": null,
   "id": "c3c0d659",
   "metadata": {},
   "outputs": [],
   "source": [
    "qs.filter(pk__gte=5).filter(pk__lt=10)"
   ]
  },
  {
   "cell_type": "code",
   "execution_count": null,
   "id": "cc06433e",
   "metadata": {},
   "outputs": [],
   "source": [
    "qs1 = Shop.objects.all()\n",
    "qs1 = qs1.filter(pk__gte=5)\n",
    "qs1 = qs1.filter(pk__lt=10)"
   ]
  },
  {
   "cell_type": "code",
   "execution_count": null,
   "id": "2323f725",
   "metadata": {},
   "outputs": [],
   "source": [
    "qs2 = Shop.objects.all().filter(pk__gte=5).filter(pk__lt=10)"
   ]
  },
  {
   "cell_type": "code",
   "execution_count": null,
   "id": "c8cb83a4",
   "metadata": {},
   "outputs": [],
   "source": [
    "# QuerySet is Lazy"
   ]
  },
  {
   "cell_type": "code",
   "execution_count": null,
   "id": "9cb06f8b",
   "metadata": {},
   "outputs": [],
   "source": [
    "qs=Shop.objects.all()"
   ]
  },
  {
   "cell_type": "code",
   "execution_count": null,
   "id": "877f496b",
   "metadata": {},
   "outputs": [],
   "source": [
    "Shop.objects.all()"
   ]
  },
  {
   "cell_type": "code",
   "execution_count": null,
   "id": "9381b67e",
   "metadata": {},
   "outputs": [],
   "source": [
    "qs=Shop.objects.all()\n",
    "shop_list=list(qs) # 사용하기 좋지 않다"
   ]
  },
  {
   "cell_type": "code",
   "execution_count": null,
   "id": "2df8fa37",
   "metadata": {},
   "outputs": [],
   "source": []
  },
  {
   "cell_type": "markdown",
   "id": "21321476",
   "metadata": {},
   "source": [
    "# Get 1 Row"
   ]
  },
  {
   "cell_type": "code",
   "execution_count": null,
   "id": "80cc7523",
   "metadata": {},
   "outputs": [],
   "source": [
    "pk=10\n",
    "not_existed_pk=1000000"
   ]
  },
  {
   "cell_type": "code",
   "execution_count": null,
   "id": "fec1c6f1",
   "metadata": {},
   "outputs": [],
   "source": [
    "shop=Shop.objects.get(pk=pk) # 가져올 대상이 1개임을 기대. 1개가 아니면 예외가 발생\n",
    "shop"
   ]
  },
  {
   "cell_type": "code",
   "execution_count": null,
   "id": "6c39953e",
   "metadata": {},
   "outputs": [],
   "source": [
    "Shop.objects.get(pk=not_existed_pk) #Shop.DoseNotExist 예외가 발생"
   ]
  },
  {
   "cell_type": "code",
   "execution_count": null,
   "id": "f3943ae4",
   "metadata": {},
   "outputs": [],
   "source": [
    "Shop.objects.filter(pk=pk)[0]\n",
    "shop"
   ]
  },
  {
   "cell_type": "code",
   "execution_count": null,
   "id": "489c7ac0",
   "metadata": {},
   "outputs": [],
   "source": [
    "Shop.objects.filter(pk=not_existed_pk)[0] # indexError 예외가 발생"
   ]
  },
  {
   "cell_type": "code",
   "execution_count": null,
   "id": "16ccbfac",
   "metadata": {},
   "outputs": [],
   "source": [
    "Shop.objects.filter(pk=not_existed_pk).first() # 지정 Row가 없다면 None을 반환할 뿐, 예외는 발생 x"
   ]
  },
  {
   "cell_type": "code",
   "execution_count": null,
   "id": "b217a6fd",
   "metadata": {},
   "outputs": [],
   "source": []
  },
  {
   "cell_type": "markdown",
   "id": "9e1f4821",
   "metadata": {},
   "source": [
    "# Conditions (OR)"
   ]
  },
  {
   "cell_type": "code",
   "execution_count": null,
   "id": "7b490b62",
   "metadata": {},
   "outputs": [],
   "source": [
    "qs=Shop.objects.all()\n",
    "qs.filter(pk__gte=5, pk__lt=10) #AND"
   ]
  },
  {
   "cell_type": "code",
   "execution_count": null,
   "id": "87fa0d69",
   "metadata": {},
   "outputs": [],
   "source": [
    "from django.db.models import Q"
   ]
  },
  {
   "cell_type": "code",
   "execution_count": null,
   "id": "680f01a7",
   "metadata": {},
   "outputs": [],
   "source": [
    "Q(pk__gte=5)"
   ]
  },
  {
   "cell_type": "code",
   "execution_count": null,
   "id": "b5e75322",
   "metadata": {},
   "outputs": [],
   "source": [
    "Q(pk__lt=10)"
   ]
  },
  {
   "cell_type": "code",
   "execution_count": null,
   "id": "3332bf62",
   "metadata": {},
   "outputs": [],
   "source": [
    "Q(pk__gte=5) & Q(pk__lt=10)"
   ]
  },
  {
   "cell_type": "code",
   "execution_count": null,
   "id": "21bcde29",
   "metadata": {},
   "outputs": [],
   "source": [
    "Q(pk__gte=5) | Q(pk__lt=10)"
   ]
  },
  {
   "cell_type": "code",
   "execution_count": null,
   "id": "a11e853c",
   "metadata": {},
   "outputs": [],
   "source": [
    "qs = Shop.objects.all()\n",
    "qs.filter(\n",
    "    Q(pk__gte=5) | Q(pk__lt=10)\n",
    ")"
   ]
  },
  {
   "cell_type": "code",
   "execution_count": null,
   "id": "b32c0921",
   "metadata": {},
   "outputs": [],
   "source": [
    "conditions =  Q(pk__gte=5)\n",
    "# conditions = conditions | Q(pk__lt=10)\n",
    "conditions |= Q(pk__lt=10)\n",
    "\n",
    "conditions"
   ]
  },
  {
   "cell_type": "code",
   "execution_count": null,
   "id": "b9fe4dca",
   "metadata": {},
   "outputs": [],
   "source": []
  },
  {
   "cell_type": "markdown",
   "id": "1f4a1d1a",
   "metadata": {},
   "source": [
    "# Update Rows"
   ]
  },
  {
   "cell_type": "markdown",
   "id": "e4d8ec13",
   "metadata": {},
   "source": [
    "지정 Row"
   ]
  },
  {
   "cell_type": "code",
   "execution_count": null,
   "id": "4ad36d23",
   "metadata": {},
   "outputs": [],
   "source": [
    "qs = Shop.objects.all()\n",
    "shop=qs.get(pk=10)"
   ]
  },
  {
   "cell_type": "code",
   "execution_count": null,
   "id": "82368cbe",
   "metadata": {},
   "outputs": [],
   "source": [
    "shop.name, shop.telephone"
   ]
  },
  {
   "cell_type": "code",
   "execution_count": null,
   "id": "af694d20",
   "metadata": {},
   "outputs": [],
   "source": [
    "shop.telephone='042-1234-0006'"
   ]
  },
  {
   "cell_type": "code",
   "execution_count": null,
   "id": "250aacf1",
   "metadata": {},
   "outputs": [],
   "source": [
    "shop.save()"
   ]
  },
  {
   "cell_type": "code",
   "execution_count": null,
   "id": "f417baf5",
   "metadata": {},
   "outputs": [],
   "source": []
  },
  {
   "cell_type": "markdown",
   "id": "d6344581",
   "metadata": {},
   "source": [
    "# 지정 범위의 Rows"
   ]
  },
  {
   "cell_type": "code",
   "execution_count": null,
   "id": "c6e4301c",
   "metadata": {},
   "outputs": [],
   "source": [
    "qs = Shop.objects.all()\n",
    "qs = qs.filter(pk__lte=10)\n",
    "qs.update(\n",
    "    description=\"not used description\",\n",
    ")"
   ]
  },
  {
   "cell_type": "code",
   "execution_count": null,
   "id": "46671ab3",
   "metadata": {},
   "outputs": [],
   "source": [
    "qs = Shop.objects.all()\n",
    "qs = qs.filter(pk__lte=10)\n",
    "for shop in qs:\n",
    "    shop.description='not used description'\n",
    "    shop.save()"
   ]
  },
  {
   "cell_type": "code",
   "execution_count": null,
   "id": "774bf817",
   "metadata": {},
   "outputs": [],
   "source": []
  },
  {
   "cell_type": "code",
   "execution_count": null,
   "id": "6d8bc395",
   "metadata": {},
   "outputs": [],
   "source": []
  },
  {
   "cell_type": "markdown",
   "id": "25b57376",
   "metadata": {},
   "source": [
    "# Delete Rows"
   ]
  },
  {
   "cell_type": "code",
   "execution_count": null,
   "id": "868550ee",
   "metadata": {},
   "outputs": [],
   "source": [
    "# qs = Shop.objects.all()"
   ]
  },
  {
   "cell_type": "code",
   "execution_count": null,
   "id": "e6648293",
   "metadata": {},
   "outputs": [],
   "source": [
    "# qs.delete()"
   ]
  },
  {
   "cell_type": "code",
   "execution_count": null,
   "id": "c23920dd",
   "metadata": {},
   "outputs": [],
   "source": []
  }
 ],
 "metadata": {
  "kernelspec": {
   "display_name": "Python 3 (ipykernel)",
   "language": "python",
   "name": "python3"
  },
  "language_info": {
   "codemirror_mode": {
    "name": "ipython",
    "version": 3
   },
   "file_extension": ".py",
   "mimetype": "text/x-python",
   "name": "python",
   "nbconvert_exporter": "python",
   "pygments_lexer": "ipython3",
   "version": "3.10.0"
  }
 },
 "nbformat": 4,
 "nbformat_minor": 5
}
