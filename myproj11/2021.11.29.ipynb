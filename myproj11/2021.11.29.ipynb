{
 "cells": [
  {
   "cell_type": "code",
   "execution_count": 2,
   "id": "635c594c",
   "metadata": {},
   "outputs": [
    {
     "data": {
      "text/plain": [
       "5"
      ]
     },
     "execution_count": 2,
     "metadata": {},
     "output_type": "execute_result"
    }
   ],
   "source": [
    "3+2"
   ]
  },
  {
   "cell_type": "markdown",
   "id": "6656c0fe",
   "metadata": {},
   "source": [
    "Shift + Enter  -> 실행 "
   ]
  },
  {
   "cell_type": "markdown",
   "id": "dff0c2fb",
   "metadata": {},
   "source": [
    "pip install xlwings (명령 프롬포트에서 )"
   ]
  },
  {
   "cell_type": "code",
   "execution_count": 3,
   "id": "6576a826",
   "metadata": {},
   "outputs": [],
   "source": [
    "import xlwings"
   ]
  },
  {
   "cell_type": "code",
   "execution_count": 4,
   "id": "ad35d991",
   "metadata": {},
   "outputs": [
    {
     "data": {
      "text/plain": [
       "Sheets([<Sheet [통합 문서1]Sheet1>])"
      ]
     },
     "execution_count": 4,
     "metadata": {},
     "output_type": "execute_result"
    }
   ],
   "source": [
    "xlwings.sheets"
   ]
  },
  {
   "cell_type": "code",
   "execution_count": 5,
   "id": "67881371",
   "metadata": {},
   "outputs": [
    {
     "data": {
      "text/plain": [
       "[['message', 'broswer'],\n",
       " ['첫 로그', 'chrome'],\n",
       " ['두번째 로그', 'chrome'],\n",
       " ['세번째 로그', 'chrome'],\n",
       " ['로그#4', 'chrome'],\n",
       " ['로그#5', 'chrome'],\n",
       " ['로그#6', 'chrome'],\n",
       " ['로그#7', 'chrome'],\n",
       " ['로그#8', 'chrome']]"
      ]
     },
     "execution_count": 5,
     "metadata": {},
     "output_type": "execute_result"
    }
   ],
   "source": [
    "xlwings.Range(\"A1\").expand().value"
   ]
  },
  {
   "cell_type": "code",
   "execution_count": 6,
   "id": "0012c648",
   "metadata": {},
   "outputs": [],
   "source": [
    "# 엑셀에서 파이썬 함수 호출도 가능함 "
   ]
  },
  {
   "cell_type": "markdown",
   "id": "3140c261",
   "metadata": {},
   "source": [
    "첫번째 줄이 컬럼 \n",
    "\n",
    "두번째 줄부터 데이터\n"
   ]
  },
  {
   "cell_type": "code",
   "execution_count": 8,
   "id": "95242a5c",
   "metadata": {},
   "outputs": [
    {
     "data": {
      "text/plain": [
       "[['message', 'broswer'],\n",
       " ['첫 로그', 'chrome'],\n",
       " ['두번째 로그', 'chrome'],\n",
       " ['세번째 로그', 'chrome'],\n",
       " ['로그#4', 'chrome'],\n",
       " ['로그#5', 'chrome'],\n",
       " ['로그#6', 'chrome'],\n",
       " ['로그#7', 'chrome'],\n",
       " ['로그#8', 'chrome']]"
      ]
     },
     "execution_count": 8,
     "metadata": {},
     "output_type": "execute_result"
    }
   ],
   "source": [
    "total_rows = xlwings.Range(\"A1\").expand().value\n",
    "total_rows # 첫번째 줄이 컬럼명 / 두 번째 줄부터가 실제 데이터"
   ]
  },
  {
   "cell_type": "markdown",
   "id": "453bbe15",
   "metadata": {},
   "source": [
    "리스트는 각각의 값들을 구분할 수 있는 식별자가 인덱스\n"
   ]
  },
  {
   "cell_type": "code",
   "execution_count": null,
   "id": "11d57cd4",
   "metadata": {},
   "outputs": [],
   "source": []
  },
  {
   "cell_type": "code",
   "execution_count": 9,
   "id": "aacf9110",
   "metadata": {},
   "outputs": [],
   "source": [
    "# 리스트를 사전으로 형변환 하기 "
   ]
  },
  {
   "cell_type": "code",
   "execution_count": 10,
   "id": "599036e9",
   "metadata": {},
   "outputs": [
    {
     "data": {
      "text/plain": [
       "['message', 'broswer']"
      ]
     },
     "execution_count": 10,
     "metadata": {},
     "output_type": "execute_result"
    }
   ],
   "source": [
    "column_names = total_rows[0]\n",
    "column_names # "
   ]
  },
  {
   "cell_type": "code",
   "execution_count": 11,
   "id": "88bd2e57",
   "metadata": {},
   "outputs": [
    {
     "data": {
      "text/plain": [
       "[['첫 로그', 'chrome'],\n",
       " ['두번째 로그', 'chrome'],\n",
       " ['세번째 로그', 'chrome'],\n",
       " ['로그#4', 'chrome'],\n",
       " ['로그#5', 'chrome'],\n",
       " ['로그#6', 'chrome'],\n",
       " ['로그#7', 'chrome'],\n",
       " ['로그#8', 'chrome']]"
      ]
     },
     "execution_count": 11,
     "metadata": {},
     "output_type": "execute_result"
    }
   ],
   "source": [
    "total_rows[1:] # 다수의 컬럼에 대한 데`이터가 중첩되어 있음 "
   ]
  },
  {
   "cell_type": "code",
   "execution_count": 25,
   "id": "71459c32",
   "metadata": {},
   "outputs": [
    {
     "data": {
      "text/plain": [
       "[{'message': '첫 로그', 'broswer': 'chrome'},\n",
       " {'message': '두번째 로그', 'broswer': 'chrome'},\n",
       " {'message': '세번째 로그', 'broswer': 'chrome'},\n",
       " {'message': '로그#4', 'broswer': 'chrome'},\n",
       " {'message': '로그#5', 'broswer': 'chrome'},\n",
       " {'message': '로그#6', 'broswer': 'chrome'},\n",
       " {'message': '로그#7', 'broswer': 'chrome'},\n",
       " {'message': '로그#8', 'broswer': 'chrome'}]"
      ]
     },
     "execution_count": 25,
     "metadata": {},
     "output_type": "execute_result"
    }
   ],
   "source": [
    "# list comprehension\n",
    "[\n",
    "    dict(zip(column_names, row))\n",
    "    for row in total_rows[1:]\n",
    "]"
   ]
  },
  {
   "cell_type": "code",
   "execution_count": 13,
   "id": "8ec601a3",
   "metadata": {},
   "outputs": [
    {
     "name": "stdout",
     "output_type": "stream",
     "text": [
      "{'message': '첫 로그', 'broswer': 'chrome'}\n",
      "{'message': '두번째 로그', 'broswer': 'chrome'}\n",
      "{'message': '세번째 로그', 'broswer': 'chrome'}\n",
      "{'message': '로그#4', 'broswer': 'chrome'}\n",
      "{'message': '로그#5', 'broswer': 'chrome'}\n",
      "{'message': '로그#6', 'broswer': 'chrome'}\n",
      "{'message': '로그#7', 'broswer': 'chrome'}\n",
      "{'message': '로그#8', 'broswer': 'chrome'}\n"
     ]
    }
   ],
   "source": [
    "for row in total_rows[1:]:\n",
    "    row_dict = dict(zip(column_names, row))\n",
    "    print(row_dict)\n",
    "    \n",
    "    # for 루프 안에서 바로 insert 쿼리를 사용할 수 있지만, \n",
    "    # 이미 만들어진 데이터를 넣어주는 것들과 분리하는 것이 중요 \n",
    "    # 섞여버리면 꼬이고꼬여서 스파게티 코드가 됨 \n",
    "    \n",
    "# 최대한 분리를 해주는 것이 중요 \n",
    "\n"
   ]
  },
  {
   "cell_type": "code",
   "execution_count": 14,
   "id": "61531cee",
   "metadata": {},
   "outputs": [
    {
     "data": {
      "text/plain": [
       "[{'message': '첫 로그', 'broswer': 'chrome'},\n",
       " {'message': '두번째 로그', 'broswer': 'chrome'},\n",
       " {'message': '세번째 로그', 'broswer': 'chrome'},\n",
       " {'message': '로그#4', 'broswer': 'chrome'},\n",
       " {'message': '로그#5', 'broswer': 'chrome'},\n",
       " {'message': '로그#6', 'broswer': 'chrome'},\n",
       " {'message': '로그#7', 'broswer': 'chrome'},\n",
       " {'message': '로그#8', 'broswer': 'chrome'}]"
      ]
     },
     "execution_count": 14,
     "metadata": {},
     "output_type": "execute_result"
    }
   ],
   "source": [
    "# 리스트 컴프리헨션 버젼 \n",
    "[\n",
    "    dict(zip(column_names, row))\n",
    "  for row in total_rows[1:] \n",
    "] \n",
    "# 새로운 리스트 순회를 돌면서,\n",
    "# 새로운 리스트를 만들고,\n",
    "# 새로운 리스트에 append 할 대상을 for 앞에 넣어주면 됨"
   ]
  },
  {
   "cell_type": "code",
   "execution_count": 15,
   "id": "d5eea3be",
   "metadata": {},
   "outputs": [
    {
     "data": {
      "text/plain": [
       "[{'message': '첫 로그', 'broswer': 'chrome'},\n",
       " {'message': '두번째 로그', 'broswer': 'chrome'},\n",
       " {'message': '세번째 로그', 'broswer': 'chrome'},\n",
       " {'message': '로그#4', 'broswer': 'chrome'},\n",
       " {'message': '로그#5', 'broswer': 'chrome'},\n",
       " {'message': '로그#6', 'broswer': 'chrome'},\n",
       " {'message': '로그#7', 'broswer': 'chrome'},\n",
       " {'message': '로그#8', 'broswer': 'chrome'}]"
      ]
     },
     "execution_count": 15,
     "metadata": {},
     "output_type": "execute_result"
    }
   ],
   "source": [
    "rows_data = [\n",
    "    dict(zip(column_names, row))\n",
    "    for row in total_rows[1:] \n",
    "]\n",
    "\n",
    "rows_data"
   ]
  },
  {
   "cell_type": "code",
   "execution_count": null,
   "id": "a18c355c",
   "metadata": {},
   "outputs": [],
   "source": []
  },
  {
   "cell_type": "markdown",
   "id": "5ef6bf75",
   "metadata": {},
   "source": [
    "# 정리 "
   ]
  },
  {
   "cell_type": "code",
   "execution_count": 39,
   "id": "284e64eb",
   "metadata": {},
   "outputs": [
    {
     "data": {
      "text/plain": [
       "[{'message': '첫 로그', 'broswer': 'chrome'},\n",
       " {'message': '두번째 로그', 'broswer': 'chrome'},\n",
       " {'message': '세번째 로그', 'broswer': 'chrome'},\n",
       " {'message': '로그#4', 'broswer': 'chrome'},\n",
       " {'message': '로그#5', 'broswer': 'chrome'},\n",
       " {'message': '로그#6', 'broswer': 'chrome'},\n",
       " {'message': '로그#7', 'broswer': 'chrome'},\n",
       " {'message': '로그#8', 'broswer': 'chrome'}]"
      ]
     },
     "execution_count": 39,
     "metadata": {},
     "output_type": "execute_result"
    }
   ],
   "source": [
    "def get_rows_data():\n",
    "\n",
    "    total_rows = xlwings.Range(\"A1\").expand().value\n",
    "    column_names = total_rows[0]\n",
    "    rows_data = [\n",
    "        dict(zip(column_names, row))\n",
    "        for row in total_rows[1:]]\n",
    "    return rows_data\n",
    "\n",
    "get_rows_data()"
   ]
  },
  {
   "cell_type": "code",
   "execution_count": 17,
   "id": "50cba371",
   "metadata": {},
   "outputs": [],
   "source": [
    "DATABASE = {\n",
    "    \"host\" : \"127.0.0.1\",\n",
    "    \"user\" : \"root\",\n",
    "    \"password\" : \"1234\",\n",
    "    \"db\" : \"myproj11_db\",\n",
    "    \"charset\" : \"utf8\"\n",
    "} "
   ]
  },
  {
   "cell_type": "code",
   "execution_count": 18,
   "id": "7bb31603",
   "metadata": {},
   "outputs": [],
   "source": [
    "import pymysql"
   ]
  },
  {
   "cell_type": "code",
   "execution_count": 19,
   "id": "08599033",
   "metadata": {},
   "outputs": [
    {
     "name": "stdout",
     "output_type": "stream",
     "text": [
      "()\n"
     ]
    }
   ],
   "source": [
    "connection = pymysql.connect(**DATABASE)\n",
    "cursor = connection.cursor()\n",
    "cursor.execute(\"SELECT * FROM log;\")\n",
    "print(cursor.fetchall())\n",
    "cursor.close()"
   ]
  },
  {
   "cell_type": "markdown",
   "id": "df6e3732",
   "metadata": {},
   "source": [
    "# with 절"
   ]
  },
  {
   "cell_type": "code",
   "execution_count": 20,
   "id": "7fbcf4db",
   "metadata": {},
   "outputs": [],
   "source": [
    "import pymysql\n",
    "from contextlib import contextmanager\n",
    "\n",
    "@contextmanager\n",
    "def db_cursor():\n",
    "    connection = pymysql.connect(**DATABASE)\n",
    "    cursor = connection.cursor()\n",
    "    yield cursor\n",
    "    cursor.close()"
   ]
  },
  {
   "cell_type": "code",
   "execution_count": 30,
   "id": "da690216",
   "metadata": {},
   "outputs": [
    {
     "name": "stdout",
     "output_type": "stream",
     "text": [
      "()\n"
     ]
    }
   ],
   "source": [
    "with db_cursor() as cursor:\n",
    "    cursor.execute(\"SELECT * FROM log\")\n",
    "    print(cursor.fetchall())"
   ]
  },
  {
   "cell_type": "code",
   "execution_count": 44,
   "id": "e0fe79eb",
   "metadata": {},
   "outputs": [
    {
     "ename": "NameError",
     "evalue": "name 'get_rows_date' is not defined",
     "output_type": "error",
     "traceback": [
      "\u001b[1;31m---------------------------------------------------------------------------\u001b[0m",
      "\u001b[1;31mNameError\u001b[0m                                 Traceback (most recent call last)",
      "\u001b[1;32m~\\AppData\\Local\\Temp/ipykernel_1216/1006718839.py\u001b[0m in \u001b[0;36m<module>\u001b[1;34m\u001b[0m\n\u001b[0;32m      2\u001b[0m \u001b[1;33m\u001b[0m\u001b[0m\n\u001b[0;32m      3\u001b[0m \u001b[1;32mwith\u001b[0m \u001b[0mdb_cursor\u001b[0m\u001b[1;33m(\u001b[0m\u001b[1;33m)\u001b[0m \u001b[1;32mas\u001b[0m \u001b[0mcursor\u001b[0m\u001b[1;33m:\u001b[0m\u001b[1;33m\u001b[0m\u001b[1;33m\u001b[0m\u001b[0m\n\u001b[1;32m----> 4\u001b[1;33m     \u001b[1;32mfor\u001b[0m \u001b[0mrow\u001b[0m \u001b[1;32min\u001b[0m \u001b[0mget_rows_date\u001b[0m\u001b[1;33m(\u001b[0m\u001b[1;33m)\u001b[0m\u001b[1;33m:\u001b[0m\u001b[1;33m\u001b[0m\u001b[1;33m\u001b[0m\u001b[0m\n\u001b[0m\u001b[0;32m      5\u001b[0m         \u001b[0msql\u001b[0m\u001b[1;33m=\u001b[0m\u001b[1;34m\"INSERT INTO LOG(message. browser) VALUES(%(message)s,%(browser)s\"\u001b[0m\u001b[1;33m\u001b[0m\u001b[1;33m\u001b[0m\u001b[0m\n\u001b[0;32m      6\u001b[0m         \u001b[0mcursor\u001b[0m\u001b[1;33m.\u001b[0m\u001b[0mexecute\u001b[0m\u001b[1;33m(\u001b[0m\u001b[0msql\u001b[0m\u001b[1;33m,\u001b[0m\u001b[0mrow_dict\u001b[0m\u001b[1;33m)\u001b[0m\u001b[1;33m\u001b[0m\u001b[1;33m\u001b[0m\u001b[0m\n",
      "\u001b[1;31mNameError\u001b[0m: name 'get_rows_date' is not defined"
     ]
    }
   ],
   "source": [
    "column_data={'message': '첫 로그','browser':'chrome'}\n",
    "\n",
    "with db_cursor() as cursor:\n",
    "    for row in get_rows_date():\n",
    "        sql=\"INSERT INTO LOG(message. browser) VALUES(%(message)s,%(browser)s\"\n",
    "        cursor.execute(sql,row_dict)"
   ]
  },
  {
   "cell_type": "code",
   "execution_count": 45,
   "id": "b4787fb1",
   "metadata": {},
   "outputs": [
    {
     "data": {
      "text/plain": [
       "[{'message': '첫 로그', 'broswer': 'chrome'},\n",
       " {'message': '두번째 로그', 'broswer': 'chrome'},\n",
       " {'message': '세번째 로그', 'broswer': 'chrome'},\n",
       " {'message': '로그#4', 'broswer': 'chrome'},\n",
       " {'message': '로그#5', 'broswer': 'chrome'},\n",
       " {'message': '로그#6', 'broswer': 'chrome'},\n",
       " {'message': '로그#7', 'broswer': 'chrome'},\n",
       " {'message': '로그#8', 'broswer': 'chrome'}]"
      ]
     },
     "execution_count": 45,
     "metadata": {},
     "output_type": "execute_result"
    }
   ],
   "source": [
    "get_rows_data()"
   ]
  },
  {
   "cell_type": "code",
   "execution_count": 42,
   "id": "85c51039",
   "metadata": {},
   "outputs": [
    {
     "ename": "OperationalError",
     "evalue": "(1136, \"Column count doesn't match value count at row 1\")",
     "output_type": "error",
     "traceback": [
      "\u001b[1;31m---------------------------------------------------------------------------\u001b[0m",
      "\u001b[1;31mOperationalError\u001b[0m                          Traceback (most recent call last)",
      "\u001b[1;32m~\\AppData\\Local\\Temp/ipykernel_1216/2999920264.py\u001b[0m in \u001b[0;36m<module>\u001b[1;34m\u001b[0m\n\u001b[0;32m      3\u001b[0m \u001b[1;32mwith\u001b[0m \u001b[0mdb_cursor\u001b[0m\u001b[1;33m(\u001b[0m\u001b[1;33m)\u001b[0m \u001b[1;32mas\u001b[0m \u001b[0mcursor\u001b[0m\u001b[1;33m:\u001b[0m\u001b[1;33m\u001b[0m\u001b[1;33m\u001b[0m\u001b[0m\n\u001b[0;32m      4\u001b[0m     \u001b[0msql\u001b[0m\u001b[1;33m=\u001b[0m\u001b[1;34m\"INSERT INTO LOG(message. browser) VALUES(%s,%s)\"\u001b[0m\u001b[1;33m\u001b[0m\u001b[1;33m\u001b[0m\u001b[0m\n\u001b[1;32m----> 5\u001b[1;33m     \u001b[0mcursor\u001b[0m\u001b[1;33m.\u001b[0m\u001b[0mexecute\u001b[0m\u001b[1;33m(\u001b[0m\u001b[0msql\u001b[0m\u001b[1;33m,\u001b[0m\u001b[1;33m[\u001b[0m\u001b[1;34m\"첫로그\"\u001b[0m\u001b[1;33m,\u001b[0m\u001b[1;34m\"chrome\"\u001b[0m\u001b[1;33m]\u001b[0m\u001b[1;33m)\u001b[0m\u001b[1;33m\u001b[0m\u001b[1;33m\u001b[0m\u001b[0m\n\u001b[0m",
      "\u001b[1;32mC:\\Python310\\lib\\site-packages\\pymysql\\cursors.py\u001b[0m in \u001b[0;36mexecute\u001b[1;34m(self, query, args)\u001b[0m\n\u001b[0;32m    146\u001b[0m         \u001b[0mquery\u001b[0m \u001b[1;33m=\u001b[0m \u001b[0mself\u001b[0m\u001b[1;33m.\u001b[0m\u001b[0mmogrify\u001b[0m\u001b[1;33m(\u001b[0m\u001b[0mquery\u001b[0m\u001b[1;33m,\u001b[0m \u001b[0margs\u001b[0m\u001b[1;33m)\u001b[0m\u001b[1;33m\u001b[0m\u001b[1;33m\u001b[0m\u001b[0m\n\u001b[0;32m    147\u001b[0m \u001b[1;33m\u001b[0m\u001b[0m\n\u001b[1;32m--> 148\u001b[1;33m         \u001b[0mresult\u001b[0m \u001b[1;33m=\u001b[0m \u001b[0mself\u001b[0m\u001b[1;33m.\u001b[0m\u001b[0m_query\u001b[0m\u001b[1;33m(\u001b[0m\u001b[0mquery\u001b[0m\u001b[1;33m)\u001b[0m\u001b[1;33m\u001b[0m\u001b[1;33m\u001b[0m\u001b[0m\n\u001b[0m\u001b[0;32m    149\u001b[0m         \u001b[0mself\u001b[0m\u001b[1;33m.\u001b[0m\u001b[0m_executed\u001b[0m \u001b[1;33m=\u001b[0m \u001b[0mquery\u001b[0m\u001b[1;33m\u001b[0m\u001b[1;33m\u001b[0m\u001b[0m\n\u001b[0;32m    150\u001b[0m         \u001b[1;32mreturn\u001b[0m \u001b[0mresult\u001b[0m\u001b[1;33m\u001b[0m\u001b[1;33m\u001b[0m\u001b[0m\n",
      "\u001b[1;32mC:\\Python310\\lib\\site-packages\\pymysql\\cursors.py\u001b[0m in \u001b[0;36m_query\u001b[1;34m(self, q)\u001b[0m\n\u001b[0;32m    308\u001b[0m         \u001b[0mself\u001b[0m\u001b[1;33m.\u001b[0m\u001b[0m_last_executed\u001b[0m \u001b[1;33m=\u001b[0m \u001b[0mq\u001b[0m\u001b[1;33m\u001b[0m\u001b[1;33m\u001b[0m\u001b[0m\n\u001b[0;32m    309\u001b[0m         \u001b[0mself\u001b[0m\u001b[1;33m.\u001b[0m\u001b[0m_clear_result\u001b[0m\u001b[1;33m(\u001b[0m\u001b[1;33m)\u001b[0m\u001b[1;33m\u001b[0m\u001b[1;33m\u001b[0m\u001b[0m\n\u001b[1;32m--> 310\u001b[1;33m         \u001b[0mconn\u001b[0m\u001b[1;33m.\u001b[0m\u001b[0mquery\u001b[0m\u001b[1;33m(\u001b[0m\u001b[0mq\u001b[0m\u001b[1;33m)\u001b[0m\u001b[1;33m\u001b[0m\u001b[1;33m\u001b[0m\u001b[0m\n\u001b[0m\u001b[0;32m    311\u001b[0m         \u001b[0mself\u001b[0m\u001b[1;33m.\u001b[0m\u001b[0m_do_get_result\u001b[0m\u001b[1;33m(\u001b[0m\u001b[1;33m)\u001b[0m\u001b[1;33m\u001b[0m\u001b[1;33m\u001b[0m\u001b[0m\n\u001b[0;32m    312\u001b[0m         \u001b[1;32mreturn\u001b[0m \u001b[0mself\u001b[0m\u001b[1;33m.\u001b[0m\u001b[0mrowcount\u001b[0m\u001b[1;33m\u001b[0m\u001b[1;33m\u001b[0m\u001b[0m\n",
      "\u001b[1;32mC:\\Python310\\lib\\site-packages\\pymysql\\connections.py\u001b[0m in \u001b[0;36mquery\u001b[1;34m(self, sql, unbuffered)\u001b[0m\n\u001b[0;32m    546\u001b[0m             \u001b[0msql\u001b[0m \u001b[1;33m=\u001b[0m \u001b[0msql\u001b[0m\u001b[1;33m.\u001b[0m\u001b[0mencode\u001b[0m\u001b[1;33m(\u001b[0m\u001b[0mself\u001b[0m\u001b[1;33m.\u001b[0m\u001b[0mencoding\u001b[0m\u001b[1;33m,\u001b[0m \u001b[1;34m\"surrogateescape\"\u001b[0m\u001b[1;33m)\u001b[0m\u001b[1;33m\u001b[0m\u001b[1;33m\u001b[0m\u001b[0m\n\u001b[0;32m    547\u001b[0m         \u001b[0mself\u001b[0m\u001b[1;33m.\u001b[0m\u001b[0m_execute_command\u001b[0m\u001b[1;33m(\u001b[0m\u001b[0mCOMMAND\u001b[0m\u001b[1;33m.\u001b[0m\u001b[0mCOM_QUERY\u001b[0m\u001b[1;33m,\u001b[0m \u001b[0msql\u001b[0m\u001b[1;33m)\u001b[0m\u001b[1;33m\u001b[0m\u001b[1;33m\u001b[0m\u001b[0m\n\u001b[1;32m--> 548\u001b[1;33m         \u001b[0mself\u001b[0m\u001b[1;33m.\u001b[0m\u001b[0m_affected_rows\u001b[0m \u001b[1;33m=\u001b[0m \u001b[0mself\u001b[0m\u001b[1;33m.\u001b[0m\u001b[0m_read_query_result\u001b[0m\u001b[1;33m(\u001b[0m\u001b[0munbuffered\u001b[0m\u001b[1;33m=\u001b[0m\u001b[0munbuffered\u001b[0m\u001b[1;33m)\u001b[0m\u001b[1;33m\u001b[0m\u001b[1;33m\u001b[0m\u001b[0m\n\u001b[0m\u001b[0;32m    549\u001b[0m         \u001b[1;32mreturn\u001b[0m \u001b[0mself\u001b[0m\u001b[1;33m.\u001b[0m\u001b[0m_affected_rows\u001b[0m\u001b[1;33m\u001b[0m\u001b[1;33m\u001b[0m\u001b[0m\n\u001b[0;32m    550\u001b[0m \u001b[1;33m\u001b[0m\u001b[0m\n",
      "\u001b[1;32mC:\\Python310\\lib\\site-packages\\pymysql\\connections.py\u001b[0m in \u001b[0;36m_read_query_result\u001b[1;34m(self, unbuffered)\u001b[0m\n\u001b[0;32m    773\u001b[0m         \u001b[1;32melse\u001b[0m\u001b[1;33m:\u001b[0m\u001b[1;33m\u001b[0m\u001b[1;33m\u001b[0m\u001b[0m\n\u001b[0;32m    774\u001b[0m             \u001b[0mresult\u001b[0m \u001b[1;33m=\u001b[0m \u001b[0mMySQLResult\u001b[0m\u001b[1;33m(\u001b[0m\u001b[0mself\u001b[0m\u001b[1;33m)\u001b[0m\u001b[1;33m\u001b[0m\u001b[1;33m\u001b[0m\u001b[0m\n\u001b[1;32m--> 775\u001b[1;33m             \u001b[0mresult\u001b[0m\u001b[1;33m.\u001b[0m\u001b[0mread\u001b[0m\u001b[1;33m(\u001b[0m\u001b[1;33m)\u001b[0m\u001b[1;33m\u001b[0m\u001b[1;33m\u001b[0m\u001b[0m\n\u001b[0m\u001b[0;32m    776\u001b[0m         \u001b[0mself\u001b[0m\u001b[1;33m.\u001b[0m\u001b[0m_result\u001b[0m \u001b[1;33m=\u001b[0m \u001b[0mresult\u001b[0m\u001b[1;33m\u001b[0m\u001b[1;33m\u001b[0m\u001b[0m\n\u001b[0;32m    777\u001b[0m         \u001b[1;32mif\u001b[0m \u001b[0mresult\u001b[0m\u001b[1;33m.\u001b[0m\u001b[0mserver_status\u001b[0m \u001b[1;32mis\u001b[0m \u001b[1;32mnot\u001b[0m \u001b[1;32mNone\u001b[0m\u001b[1;33m:\u001b[0m\u001b[1;33m\u001b[0m\u001b[1;33m\u001b[0m\u001b[0m\n",
      "\u001b[1;32mC:\\Python310\\lib\\site-packages\\pymysql\\connections.py\u001b[0m in \u001b[0;36mread\u001b[1;34m(self)\u001b[0m\n\u001b[0;32m   1154\u001b[0m     \u001b[1;32mdef\u001b[0m \u001b[0mread\u001b[0m\u001b[1;33m(\u001b[0m\u001b[0mself\u001b[0m\u001b[1;33m)\u001b[0m\u001b[1;33m:\u001b[0m\u001b[1;33m\u001b[0m\u001b[1;33m\u001b[0m\u001b[0m\n\u001b[0;32m   1155\u001b[0m         \u001b[1;32mtry\u001b[0m\u001b[1;33m:\u001b[0m\u001b[1;33m\u001b[0m\u001b[1;33m\u001b[0m\u001b[0m\n\u001b[1;32m-> 1156\u001b[1;33m             \u001b[0mfirst_packet\u001b[0m \u001b[1;33m=\u001b[0m \u001b[0mself\u001b[0m\u001b[1;33m.\u001b[0m\u001b[0mconnection\u001b[0m\u001b[1;33m.\u001b[0m\u001b[0m_read_packet\u001b[0m\u001b[1;33m(\u001b[0m\u001b[1;33m)\u001b[0m\u001b[1;33m\u001b[0m\u001b[1;33m\u001b[0m\u001b[0m\n\u001b[0m\u001b[0;32m   1157\u001b[0m \u001b[1;33m\u001b[0m\u001b[0m\n\u001b[0;32m   1158\u001b[0m             \u001b[1;32mif\u001b[0m \u001b[0mfirst_packet\u001b[0m\u001b[1;33m.\u001b[0m\u001b[0mis_ok_packet\u001b[0m\u001b[1;33m(\u001b[0m\u001b[1;33m)\u001b[0m\u001b[1;33m:\u001b[0m\u001b[1;33m\u001b[0m\u001b[1;33m\u001b[0m\u001b[0m\n",
      "\u001b[1;32mC:\\Python310\\lib\\site-packages\\pymysql\\connections.py\u001b[0m in \u001b[0;36m_read_packet\u001b[1;34m(self, packet_type)\u001b[0m\n\u001b[0;32m    723\u001b[0m             \u001b[1;32mif\u001b[0m \u001b[0mself\u001b[0m\u001b[1;33m.\u001b[0m\u001b[0m_result\u001b[0m \u001b[1;32mis\u001b[0m \u001b[1;32mnot\u001b[0m \u001b[1;32mNone\u001b[0m \u001b[1;32mand\u001b[0m \u001b[0mself\u001b[0m\u001b[1;33m.\u001b[0m\u001b[0m_result\u001b[0m\u001b[1;33m.\u001b[0m\u001b[0munbuffered_active\u001b[0m \u001b[1;32mis\u001b[0m \u001b[1;32mTrue\u001b[0m\u001b[1;33m:\u001b[0m\u001b[1;33m\u001b[0m\u001b[1;33m\u001b[0m\u001b[0m\n\u001b[0;32m    724\u001b[0m                 \u001b[0mself\u001b[0m\u001b[1;33m.\u001b[0m\u001b[0m_result\u001b[0m\u001b[1;33m.\u001b[0m\u001b[0munbuffered_active\u001b[0m \u001b[1;33m=\u001b[0m \u001b[1;32mFalse\u001b[0m\u001b[1;33m\u001b[0m\u001b[1;33m\u001b[0m\u001b[0m\n\u001b[1;32m--> 725\u001b[1;33m             \u001b[0mpacket\u001b[0m\u001b[1;33m.\u001b[0m\u001b[0mraise_for_error\u001b[0m\u001b[1;33m(\u001b[0m\u001b[1;33m)\u001b[0m\u001b[1;33m\u001b[0m\u001b[1;33m\u001b[0m\u001b[0m\n\u001b[0m\u001b[0;32m    726\u001b[0m         \u001b[1;32mreturn\u001b[0m \u001b[0mpacket\u001b[0m\u001b[1;33m\u001b[0m\u001b[1;33m\u001b[0m\u001b[0m\n\u001b[0;32m    727\u001b[0m \u001b[1;33m\u001b[0m\u001b[0m\n",
      "\u001b[1;32mC:\\Python310\\lib\\site-packages\\pymysql\\protocol.py\u001b[0m in \u001b[0;36mraise_for_error\u001b[1;34m(self)\u001b[0m\n\u001b[0;32m    219\u001b[0m         \u001b[1;32mif\u001b[0m \u001b[0mDEBUG\u001b[0m\u001b[1;33m:\u001b[0m\u001b[1;33m\u001b[0m\u001b[1;33m\u001b[0m\u001b[0m\n\u001b[0;32m    220\u001b[0m             \u001b[0mprint\u001b[0m\u001b[1;33m(\u001b[0m\u001b[1;34m\"errno =\"\u001b[0m\u001b[1;33m,\u001b[0m \u001b[0merrno\u001b[0m\u001b[1;33m)\u001b[0m\u001b[1;33m\u001b[0m\u001b[1;33m\u001b[0m\u001b[0m\n\u001b[1;32m--> 221\u001b[1;33m         \u001b[0merr\u001b[0m\u001b[1;33m.\u001b[0m\u001b[0mraise_mysql_exception\u001b[0m\u001b[1;33m(\u001b[0m\u001b[0mself\u001b[0m\u001b[1;33m.\u001b[0m\u001b[0m_data\u001b[0m\u001b[1;33m)\u001b[0m\u001b[1;33m\u001b[0m\u001b[1;33m\u001b[0m\u001b[0m\n\u001b[0m\u001b[0;32m    222\u001b[0m \u001b[1;33m\u001b[0m\u001b[0m\n\u001b[0;32m    223\u001b[0m     \u001b[1;32mdef\u001b[0m \u001b[0mdump\u001b[0m\u001b[1;33m(\u001b[0m\u001b[0mself\u001b[0m\u001b[1;33m)\u001b[0m\u001b[1;33m:\u001b[0m\u001b[1;33m\u001b[0m\u001b[1;33m\u001b[0m\u001b[0m\n",
      "\u001b[1;32mC:\\Python310\\lib\\site-packages\\pymysql\\err.py\u001b[0m in \u001b[0;36mraise_mysql_exception\u001b[1;34m(data)\u001b[0m\n\u001b[0;32m    141\u001b[0m     \u001b[1;32mif\u001b[0m \u001b[0merrorclass\u001b[0m \u001b[1;32mis\u001b[0m \u001b[1;32mNone\u001b[0m\u001b[1;33m:\u001b[0m\u001b[1;33m\u001b[0m\u001b[1;33m\u001b[0m\u001b[0m\n\u001b[0;32m    142\u001b[0m         \u001b[0merrorclass\u001b[0m \u001b[1;33m=\u001b[0m \u001b[0mInternalError\u001b[0m \u001b[1;32mif\u001b[0m \u001b[0merrno\u001b[0m \u001b[1;33m<\u001b[0m \u001b[1;36m1000\u001b[0m \u001b[1;32melse\u001b[0m \u001b[0mOperationalError\u001b[0m\u001b[1;33m\u001b[0m\u001b[1;33m\u001b[0m\u001b[0m\n\u001b[1;32m--> 143\u001b[1;33m     \u001b[1;32mraise\u001b[0m \u001b[0merrorclass\u001b[0m\u001b[1;33m(\u001b[0m\u001b[0merrno\u001b[0m\u001b[1;33m,\u001b[0m \u001b[0merrval\u001b[0m\u001b[1;33m)\u001b[0m\u001b[1;33m\u001b[0m\u001b[1;33m\u001b[0m\u001b[0m\n\u001b[0m",
      "\u001b[1;31mOperationalError\u001b[0m: (1136, \"Column count doesn't match value count at row 1\")"
     ]
    }
   ],
   "source": [
    "column_data={'message': '첫 로그','browser':'chrome'}\n",
    "\n",
    "with db_cursor() as cursor:\n",
    "    sql=\"INSERT INTO LOG(message. browser) VALUES(%s,%s)\"\n",
    "    cursor.execute(sql,[\"첫로그\",\"chrome\"])"
   ]
  },
  {
   "cell_type": "code",
   "execution_count": 43,
   "id": "7416ac3f",
   "metadata": {},
   "outputs": [],
   "source": [
    "with db_cursor() as cursor:\n",
    "    sql= \"SELECT * FROM LOG\"\n",
    "    cursor.execute(sql)\n",
    "    while True:\n",
    "        row=cursor.fetchone()\n",
    "        if row is None:\n",
    "            break\n",
    "        print(row)"
   ]
  },
  {
   "cell_type": "code",
   "execution_count": 61,
   "id": "465389af",
   "metadata": {
    "scrolled": true
   },
   "outputs": [
    {
     "ename": "IndentationError",
     "evalue": "unindent does not match any outer indentation level (<tokenize>, line 6)",
     "output_type": "error",
     "traceback": [
      "\u001b[1;36m  File \u001b[1;32m\"<tokenize>\"\u001b[1;36m, line \u001b[1;32m6\u001b[0m\n\u001b[1;33m    sql= \"SELECT * FROM LOG WHERE id= %s\"\u001b[0m\n\u001b[1;37m    ^\u001b[0m\n\u001b[1;31mIndentationError\u001b[0m\u001b[1;31m:\u001b[0m unindent does not match any outer indentation level\n"
     ]
    }
   ],
   "source": [
    "with db_cursor() as cursor:\n",
    "      log_id='1 or 1'\n",
    "    # sql= \"SELECT * FROM LOG WHERE id=\"+str(log_id)\n",
    "    # sql=\"SELECT * FROM LOG WHERE id=1 or 1\" 전부 호출\n",
    "    \n",
    "    sql= \"SELECT * FROM LOG WHERE id= %s\"\n",
    "    cursor.execute(sql, [log_id])\n",
    "    for row in cursor:\n",
    "        print(row)"
   ]
  },
  {
   "cell_type": "markdown",
   "id": "258617de",
   "metadata": {},
   "source": [
    "# 데이터 매핑의 예"
   ]
  },
  {
   "cell_type": "code",
   "execution_count": 67,
   "id": "ee95b2ae",
   "metadata": {},
   "outputs": [
    {
     "data": {
      "text/plain": [
       "((1, '첫로그', 'chrome'), (2, '두번째 로그', 'chrome'))"
      ]
     },
     "execution_count": 67,
     "metadata": {},
     "output_type": "execute_result"
    }
   ],
   "source": [
    "with db_cursor() as cursor:\n",
    "    cursor.execute(\"SELECT * FROM log\")\n",
    "    rows_data = cursor.fetchall()\n",
    "#    for row in cursor:\n",
    "#         row[0] #id\n",
    "#         row[1] #message\n",
    "#         row[2] # chrome\n",
    "#        print(row)\n",
    "rows_data"
   ]
  },
  {
   "cell_type": "markdown",
   "id": "8c5b4a77",
   "metadata": {},
   "source": [
    "# dict으로의 변환"
   ]
  },
  {
   "cell_type": "markdown",
   "id": "ddaf3dab",
   "metadata": {},
   "source": [
    "# namedtuple"
   ]
  },
  {
   "cell_type": "code",
   "execution_count": 69,
   "id": "0d367872",
   "metadata": {},
   "outputs": [],
   "source": [
    "from collections import namedtuple\n",
    "\n",
    "Log = namedtuple('Log','id message browser')"
   ]
  },
  {
   "cell_type": "code",
   "execution_count": 73,
   "id": "203f2825",
   "metadata": {},
   "outputs": [
    {
     "data": {
      "text/plain": [
       "(1, 'message', 'chrome')"
      ]
     },
     "execution_count": 73,
     "metadata": {},
     "output_type": "execute_result"
    }
   ],
   "source": [
    "(1,'message','chrome')"
   ]
  },
  {
   "cell_type": "code",
   "execution_count": 71,
   "id": "18ce77f2",
   "metadata": {},
   "outputs": [
    {
     "data": {
      "text/plain": [
       "Log(id=1, message='message', browser='chrome')"
      ]
     },
     "execution_count": 71,
     "metadata": {},
     "output_type": "execute_result"
    }
   ],
   "source": [
    "log = Log(1,'message','chrome')"
   ]
  },
  {
   "cell_type": "code",
   "execution_count": 74,
   "id": "98cc8fc5",
   "metadata": {},
   "outputs": [
    {
     "name": "stdout",
     "output_type": "stream",
     "text": [
      "1\n",
      "message\n",
      "chrome\n"
     ]
    }
   ],
   "source": [
    "log = (1,'message','chrome')\n",
    "print(log[0])\n",
    "print(log[1])\n",
    "print(log[2])"
   ]
  },
  {
   "cell_type": "code",
   "execution_count": 75,
   "id": "864c91ae",
   "metadata": {},
   "outputs": [
    {
     "name": "stdout",
     "output_type": "stream",
     "text": [
      "1\n",
      "message\n",
      "chrome\n"
     ]
    }
   ],
   "source": [
    "log = Log(1,'message','chrome')\n",
    "print(log[0])\n",
    "print(log[1])\n",
    "print(log[2])"
   ]
  },
  {
   "cell_type": "code",
   "execution_count": 77,
   "id": "a4674247",
   "metadata": {},
   "outputs": [
    {
     "data": {
      "text/plain": [
       "(1, 'message', 'chrome')"
      ]
     },
     "execution_count": 77,
     "metadata": {},
     "output_type": "execute_result"
    }
   ],
   "source": [
    "log.id, log.message, log.browser"
   ]
  },
  {
   "cell_type": "code",
   "execution_count": 78,
   "id": "299366b2",
   "metadata": {},
   "outputs": [
    {
     "data": {
      "text/plain": [
       "[Log(id=1, message='첫로그', browser='chrome'),\n",
       " Log(id=2, message='두번째 로그', browser='chrome')]"
      ]
     },
     "execution_count": 78,
     "metadata": {},
     "output_type": "execute_result"
    }
   ],
   "source": [
    "with db_cursor() as cursor:\n",
    "    cursor.execute(\"SELECT * FROM log\")\n",
    "    rows_data = [\n",
    "        Log(*row)\n",
    "        for row in cursor.fetchall()\n",
    "    ]\n",
    "rows_data"
   ]
  },
  {
   "cell_type": "code",
   "execution_count": null,
   "id": "3de6f29c",
   "metadata": {},
   "outputs": [],
   "source": []
  },
  {
   "cell_type": "code",
   "execution_count": 68,
   "id": "469a775d",
   "metadata": {},
   "outputs": [
    {
     "data": {
      "text/plain": [
       "((1, '첫로그', 'chrome'), (2, '두번째 로그', 'chrome'))"
      ]
     },
     "execution_count": 68,
     "metadata": {},
     "output_type": "execute_result"
    }
   ],
   "source": [
    "rows_data"
   ]
  },
  {
   "cell_type": "code",
   "execution_count": null,
   "id": "63eddcf7",
   "metadata": {},
   "outputs": [],
   "source": []
  }
 ],
 "metadata": {
  "kernelspec": {
   "display_name": "Python 3 (ipykernel)",
   "language": "python",
   "name": "python3"
  },
  "language_info": {
   "codemirror_mode": {
    "name": "ipython",
    "version": 3
   },
   "file_extension": ".py",
   "mimetype": "text/x-python",
   "name": "python",
   "nbconvert_exporter": "python",
   "pygments_lexer": "ipython3",
   "version": "3.10.0"
  }
 },
 "nbformat": 4,
 "nbformat_minor": 5
}
