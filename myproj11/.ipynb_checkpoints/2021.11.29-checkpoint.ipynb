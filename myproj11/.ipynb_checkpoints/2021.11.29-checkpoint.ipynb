{
 "cells": [
  {
   "cell_type": "code",
   "execution_count": 2,
   "id": "635c594c",
   "metadata": {},
   "outputs": [
    {
     "data": {
      "text/plain": [
       "5"
      ]
     },
     "execution_count": 2,
     "metadata": {},
     "output_type": "execute_result"
    }
   ],
   "source": [
    "3+2"
   ]
  },
  {
   "cell_type": "markdown",
   "id": "6656c0fe",
   "metadata": {},
   "source": [
    "Shift + Enter  -> 실행 "
   ]
  },
  {
   "cell_type": "markdown",
   "id": "dff0c2fb",
   "metadata": {},
   "source": [
    "pip install xlwings (명령 프롬포트에서 )"
   ]
  },
  {
   "cell_type": "code",
   "execution_count": 3,
   "id": "6576a826",
   "metadata": {},
   "outputs": [],
   "source": [
    "import xlwings"
   ]
  },
  {
   "cell_type": "code",
   "execution_count": 4,
   "id": "ad35d991",
   "metadata": {},
   "outputs": [
    {
     "data": {
      "text/plain": [
       "Sheets([<Sheet [통합 문서1]Sheet1>])"
      ]
     },
     "execution_count": 4,
     "metadata": {},
     "output_type": "execute_result"
    }
   ],
   "source": [
    "xlwings.sheets"
   ]
  },
  {
   "cell_type": "code",
   "execution_count": 5,
   "id": "67881371",
   "metadata": {},
   "outputs": [
    {
     "data": {
      "text/plain": [
       "[['message', 'broswer'],\n",
       " ['첫 로그', 'chrome'],\n",
       " ['두번째 로그', 'chrome'],\n",
       " ['세번째 로그', 'chrome'],\n",
       " ['로그#4', 'chrome'],\n",
       " ['로그#5', 'chrome'],\n",
       " ['로그#6', 'chrome'],\n",
       " ['로그#7', 'chrome'],\n",
       " ['로그#8', 'chrome']]"
      ]
     },
     "execution_count": 5,
     "metadata": {},
     "output_type": "execute_result"
    }
   ],
   "source": [
    "xlwings.Range(\"A1\").expand().value"
   ]
  },
  {
   "cell_type": "code",
   "execution_count": 6,
   "id": "0012c648",
   "metadata": {},
   "outputs": [],
   "source": [
    "# 엑셀에서 파이썬 함수 호출도 가능함 "
   ]
  },
  {
   "cell_type": "code",
   "execution_count": 7,
   "id": "45c9696d",
   "metadata": {},
   "outputs": [
    {
     "ename": "SyntaxError",
     "evalue": "invalid syntax (Temp/ipykernel_1216/486169499.py, line 1)",
     "output_type": "error",
     "traceback": [
      "\u001b[1;36m  File \u001b[1;32m\"C:\\Users\\user\\AppData\\Local\\Temp/ipykernel_1216/486169499.py\"\u001b[1;36m, line \u001b[1;32m1\u001b[0m\n\u001b[1;33m    .value\u001b[0m\n\u001b[1;37m    ^\u001b[0m\n\u001b[1;31mSyntaxError\u001b[0m\u001b[1;31m:\u001b[0m invalid syntax\n"
     ]
    }
   ],
   "source": [
    ".value"
   ]
  },
  {
   "cell_type": "markdown",
   "id": "3140c261",
   "metadata": {},
   "source": [
    "첫번째 줄이 컬럼 \n",
    "\n",
    "두번째 줄부터 데이터\n"
   ]
  },
  {
   "cell_type": "code",
   "execution_count": 8,
   "id": "95242a5c",
   "metadata": {},
   "outputs": [
    {
     "data": {
      "text/plain": [
       "[['message', 'broswer'],\n",
       " ['첫 로그', 'chrome'],\n",
       " ['두번째 로그', 'chrome'],\n",
       " ['세번째 로그', 'chrome'],\n",
       " ['로그#4', 'chrome'],\n",
       " ['로그#5', 'chrome'],\n",
       " ['로그#6', 'chrome'],\n",
       " ['로그#7', 'chrome'],\n",
       " ['로그#8', 'chrome']]"
      ]
     },
     "execution_count": 8,
     "metadata": {},
     "output_type": "execute_result"
    }
   ],
   "source": [
    "total_rows = xlwings.Range(\"A1\").expand().value\n",
    "total_rows # 첫번째 줄이 컬럼명 / 두 번째 줄부터가 실제 데이터"
   ]
  },
  {
   "cell_type": "markdown",
   "id": "453bbe15",
   "metadata": {},
   "source": [
    "리스트는 각각의 값들을 구분할 수 있는 식별자가 인덱스\n"
   ]
  },
  {
   "cell_type": "code",
   "execution_count": null,
   "id": "11d57cd4",
   "metadata": {},
   "outputs": [],
   "source": []
  },
  {
   "cell_type": "code",
   "execution_count": 9,
   "id": "aacf9110",
   "metadata": {},
   "outputs": [],
   "source": [
    "# 리스트를 사전으로 형변환 하기 "
   ]
  },
  {
   "cell_type": "code",
   "execution_count": 10,
   "id": "599036e9",
   "metadata": {},
   "outputs": [
    {
     "data": {
      "text/plain": [
       "['message', 'broswer']"
      ]
     },
     "execution_count": 10,
     "metadata": {},
     "output_type": "execute_result"
    }
   ],
   "source": [
    "column_names = total_rows[0]\n",
    "column_names # "
   ]
  },
  {
   "cell_type": "code",
   "execution_count": 11,
   "id": "88bd2e57",
   "metadata": {},
   "outputs": [
    {
     "data": {
      "text/plain": [
       "[['첫 로그', 'chrome'],\n",
       " ['두번째 로그', 'chrome'],\n",
       " ['세번째 로그', 'chrome'],\n",
       " ['로그#4', 'chrome'],\n",
       " ['로그#5', 'chrome'],\n",
       " ['로그#6', 'chrome'],\n",
       " ['로그#7', 'chrome'],\n",
       " ['로그#8', 'chrome']]"
      ]
     },
     "execution_count": 11,
     "metadata": {},
     "output_type": "execute_result"
    }
   ],
   "source": [
    "total_rows[1:] # 다수의 컬럼에 대한 데이터가 중첩되어 있음 "
   ]
  },
  {
   "cell_type": "code",
   "execution_count": 12,
   "id": "e1393529",
   "metadata": {},
   "outputs": [
    {
     "ename": "NameError",
     "evalue": "name 'row' is not defined",
     "output_type": "error",
     "traceback": [
      "\u001b[1;31m---------------------------------------------------------------------------\u001b[0m",
      "\u001b[1;31mNameError\u001b[0m                                 Traceback (most recent call last)",
      "\u001b[1;32m~\\AppData\\Local\\Temp/ipykernel_1216/16394341.py\u001b[0m in \u001b[0;36m<module>\u001b[1;34m\u001b[0m\n\u001b[1;32m----> 1\u001b[1;33m \u001b[0mzip\u001b[0m\u001b[1;33m(\u001b[0m\u001b[0mcolumn_names\u001b[0m\u001b[1;33m,\u001b[0m \u001b[0mrow\u001b[0m\u001b[1;33m)\u001b[0m\u001b[1;33m\u001b[0m\u001b[1;33m\u001b[0m\u001b[0m\n\u001b[0m\u001b[0;32m      2\u001b[0m \u001b[1;31m# 이렇게 한 다음에, 바로 dict으로 변경하려고\u001b[0m\u001b[1;33m\u001b[0m\u001b[1;33m\u001b[0m\u001b[0m\n\u001b[0;32m      3\u001b[0m \u001b[0mdict\u001b[0m\u001b[1;33m(\u001b[0m\u001b[0mzip\u001b[0m\u001b[1;33m(\u001b[0m\u001b[0mcolumn_names\u001b[0m\u001b[1;33m,\u001b[0m \u001b[0mrow\u001b[0m\u001b[1;33m)\u001b[0m\u001b[1;33m)\u001b[0m\u001b[1;33m\u001b[0m\u001b[1;33m\u001b[0m\u001b[0m\n",
      "\u001b[1;31mNameError\u001b[0m: name 'row' is not defined"
     ]
    }
   ],
   "source": [
    "zip(column_names, row) \n",
    "# 이렇게 한 다음에, 바로 dict으로 변경하려고 \n",
    "dict(zip(column_names, row))"
   ]
  },
  {
   "cell_type": "code",
   "execution_count": 13,
   "id": "8ec601a3",
   "metadata": {},
   "outputs": [
    {
     "name": "stdout",
     "output_type": "stream",
     "text": [
      "{'message': '첫 로그', 'broswer': 'chrome'}\n",
      "{'message': '두번째 로그', 'broswer': 'chrome'}\n",
      "{'message': '세번째 로그', 'broswer': 'chrome'}\n",
      "{'message': '로그#4', 'broswer': 'chrome'}\n",
      "{'message': '로그#5', 'broswer': 'chrome'}\n",
      "{'message': '로그#6', 'broswer': 'chrome'}\n",
      "{'message': '로그#7', 'broswer': 'chrome'}\n",
      "{'message': '로그#8', 'broswer': 'chrome'}\n"
     ]
    }
   ],
   "source": [
    "for row in total_rows[1:]:\n",
    "    row_dict = dict(zip(column_names, row))\n",
    "    print(row_dict)\n",
    "    \n",
    "    # for 루프 안에서 바로 insert 쿼리를 사용할 수 있지만, \n",
    "    # 이미 만들어진 데이터를 넣어주는 것들과 분리하는 것이 중요 \n",
    "    # 섞여버리면 꼬이고꼬여서 스파게티 코드가 됨 \n",
    "    \n",
    "# 최대한 분리를 해주는 것이 중요 \n",
    "\n"
   ]
  },
  {
   "cell_type": "code",
   "execution_count": 14,
   "id": "61531cee",
   "metadata": {},
   "outputs": [
    {
     "data": {
      "text/plain": [
       "[{'message': '첫 로그', 'broswer': 'chrome'},\n",
       " {'message': '두번째 로그', 'broswer': 'chrome'},\n",
       " {'message': '세번째 로그', 'broswer': 'chrome'},\n",
       " {'message': '로그#4', 'broswer': 'chrome'},\n",
       " {'message': '로그#5', 'broswer': 'chrome'},\n",
       " {'message': '로그#6', 'broswer': 'chrome'},\n",
       " {'message': '로그#7', 'broswer': 'chrome'},\n",
       " {'message': '로그#8', 'broswer': 'chrome'}]"
      ]
     },
     "execution_count": 14,
     "metadata": {},
     "output_type": "execute_result"
    }
   ],
   "source": [
    "# 리스트 컴프리헨션 버젼 \n",
    "[\n",
    "    dict(zip(column_names, row))\n",
    "  for row in total_rows[1:] \n",
    "] \n",
    "# 새로운 리스트 순회를 돌면서,\n",
    "# 새로운 리스트를 만들고,\n",
    "# 새로운 리스트에 append 할 대상을 for 앞에 넣어주면 됨"
   ]
  },
  {
   "cell_type": "code",
   "execution_count": 15,
   "id": "d5eea3be",
   "metadata": {},
   "outputs": [
    {
     "data": {
      "text/plain": [
       "[{'message': '첫 로그', 'broswer': 'chrome'},\n",
       " {'message': '두번째 로그', 'broswer': 'chrome'},\n",
       " {'message': '세번째 로그', 'broswer': 'chrome'},\n",
       " {'message': '로그#4', 'broswer': 'chrome'},\n",
       " {'message': '로그#5', 'broswer': 'chrome'},\n",
       " {'message': '로그#6', 'broswer': 'chrome'},\n",
       " {'message': '로그#7', 'broswer': 'chrome'},\n",
       " {'message': '로그#8', 'broswer': 'chrome'}]"
      ]
     },
     "execution_count": 15,
     "metadata": {},
     "output_type": "execute_result"
    }
   ],
   "source": [
    "rows_data = [\n",
    "    dict(zip(column_names, row))\n",
    "    for row in total_rows[1:] \n",
    "]\n",
    "\n",
    "rows_data"
   ]
  },
  {
   "cell_type": "code",
   "execution_count": null,
   "id": "a18c355c",
   "metadata": {},
   "outputs": [],
   "source": []
  },
  {
   "cell_type": "markdown",
   "id": "5ef6bf75",
   "metadata": {},
   "source": [
    "# 정리 "
   ]
  },
  {
   "cell_type": "code",
   "execution_count": 16,
   "id": "284e64eb",
   "metadata": {},
   "outputs": [
    {
     "ename": "SyntaxError",
     "evalue": "closing parenthesis ']' does not match opening parenthesis '(' on line 6 (Temp/ipykernel_1216/2128860355.py, line 7)",
     "output_type": "error",
     "traceback": [
      "\u001b[1;36m  File \u001b[1;32m\"C:\\Users\\user\\AppData\\Local\\Temp/ipykernel_1216/2128860355.py\"\u001b[1;36m, line \u001b[1;32m7\u001b[0m\n\u001b[1;33m    for row in total_rows[1:]]\u001b[0m\n\u001b[1;37m                             ^\u001b[0m\n\u001b[1;31mSyntaxError\u001b[0m\u001b[1;31m:\u001b[0m closing parenthesis ']' does not match opening parenthesis '(' on line 6\n"
     ]
    }
   ],
   "source": [
    "def get_rows_data():\n",
    "\n",
    "    total_rows = xlwings.Range(\"A1\").expand().value\n",
    "    column_names = total_rows[0]\n",
    "    rows_data = [\n",
    "        dict(zip(dict(column_names, row))\n",
    "        for row in total_rows[1:]]\n",
    "        return rows_data\n",
    "\n",
    "rows_data()"
   ]
  },
  {
   "cell_type": "code",
   "execution_count": 17,
   "id": "50cba371",
   "metadata": {},
   "outputs": [],
   "source": [
    "DATABASE = {\n",
    "    \"host\" : \"127.0.0.1\",\n",
    "    \"user\" : \"root\",\n",
    "    \"password\" : \"1234\",\n",
    "    \"db\" : \"myproj11_db\",\n",
    "    \"charset\" : \"utf8\"\n",
    "} "
   ]
  },
  {
   "cell_type": "code",
   "execution_count": 18,
   "id": "7bb31603",
   "metadata": {},
   "outputs": [],
   "source": [
    "import pymysql"
   ]
  },
  {
   "cell_type": "code",
   "execution_count": 19,
   "id": "08599033",
   "metadata": {},
   "outputs": [
    {
     "name": "stdout",
     "output_type": "stream",
     "text": [
      "()\n"
     ]
    }
   ],
   "source": [
    "connection = pymysql.connect(**DATABASE)\n",
    "cursor = connection.cursor()\n",
    "cursor.execute(\"SELECT * FROM log;\")\n",
    "print(cursor.fetchall())\n",
    "cursor.close()"
   ]
  },
  {
   "cell_type": "code",
   "execution_count": 1,
   "id": "5fb383cf",
   "metadata": {},
   "outputs": [],
   "source": [
    "# with 절"
   ]
  },
  {
   "cell_type": "code",
   "execution_count": 20,
   "id": "85150bcd",
   "metadata": {},
   "outputs": [],
   "source": [
    "import pymysql\n",
    "from contextlib import contextmanager\n",
    "\n",
    "@contextmanager\n",
    "def db_cursor():\n",
    "    connection = pymysql.connect(**DATABASE)\n",
    "    cursor = connection.cursor()\n",
    "    yield cursor\n",
    "    cursor.close()"
   ]
  },
  {
   "cell_type": "code",
   "execution_count": 21,
   "id": "e7d47a37",
   "metadata": {},
   "outputs": [
    {
     "ename": "IndentationError",
     "evalue": "expected an indented block after 'with' statement on line 1 (Temp/ipykernel_1216/1842931407.py, line 2)",
     "output_type": "error",
     "traceback": [
      "\u001b[1;36m  File \u001b[1;32m\"C:\\Users\\user\\AppData\\Local\\Temp/ipykernel_1216/1842931407.py\"\u001b[1;36m, line \u001b[1;32m2\u001b[0m\n\u001b[1;33m    cursor.execute(\"SELECT * FROM log\")\u001b[0m\n\u001b[1;37m    ^\u001b[0m\n\u001b[1;31mIndentationError\u001b[0m\u001b[1;31m:\u001b[0m expected an indented block after 'with' statement on line 1\n"
     ]
    }
   ],
   "source": [
    "with db_cursor() as cursor:\n",
    "cursor.execute(\"SELECT * FROM log\")\n",
    "print(cursor.fetchall())"
   ]
  },
  {
   "cell_type": "code",
   "execution_count": null,
   "id": "4e2ed5bb",
   "metadata": {},
   "outputs": [],
   "source": []
  }
 ],
 "metadata": {
  "kernelspec": {
   "display_name": "Python 3 (ipykernel)",
   "language": "python",
   "name": "python3"
  },
  "language_info": {
   "codemirror_mode": {
    "name": "ipython",
    "version": 3
   },
   "file_extension": ".py",
   "mimetype": "text/x-python",
   "name": "python",
   "nbconvert_exporter": "python",
   "pygments_lexer": "ipython3",
   "version": "3.10.0"
  }
 },
 "nbformat": 4,
 "nbformat_minor": 5
}
