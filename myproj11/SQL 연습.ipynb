{
 "cells": [
  {
   "cell_type": "code",
   "execution_count": 1,
   "id": "619c052b",
   "metadata": {},
   "outputs": [
    {
     "data": {
      "text/plain": [
       "5"
      ]
     },
     "execution_count": 1,
     "metadata": {},
     "output_type": "execute_result"
    }
   ],
   "source": [
    "3+2 #Shift+enter"
   ]
  },
  {
   "cell_type": "code",
   "execution_count": 2,
   "id": "366a6e06",
   "metadata": {},
   "outputs": [],
   "source": [
    "import xlwings"
   ]
  },
  {
   "cell_type": "code",
   "execution_count": 3,
   "id": "a3dd3c39",
   "metadata": {},
   "outputs": [
    {
     "data": {
      "text/plain": [
       "Sheets([<Sheet [통합 문서1]Sheet1>])"
      ]
     },
     "execution_count": 3,
     "metadata": {},
     "output_type": "execute_result"
    }
   ],
   "source": [
    "xlwings.sheets"
   ]
  },
  {
   "cell_type": "code",
   "execution_count": 4,
   "id": "3a8f17bc",
   "metadata": {},
   "outputs": [
    {
     "data": {
      "text/plain": [
       "[['message', 'broswer'],\n",
       " ['첫 로그', 'chrome'],\n",
       " ['두번째 로그', 'chrome'],\n",
       " ['세번째 로그', 'chrome'],\n",
       " ['로그#4', 'chrome'],\n",
       " ['로그#5', 'chrome'],\n",
       " ['로그#6', 'chrome'],\n",
       " ['로그#7', 'chrome'],\n",
       " ['로그#8', 'chrome']]"
      ]
     },
     "execution_count": 4,
     "metadata": {},
     "output_type": "execute_result"
    }
   ],
   "source": [
    "xlwings.Range(\"A1\").expand().value"
   ]
  },
  {
   "cell_type": "code",
   "execution_count": 5,
   "id": "43665b68",
   "metadata": {},
   "outputs": [
    {
     "ename": "SyntaxError",
     "evalue": "invalid syntax (Temp/ipykernel_13712/486169499.py, line 1)",
     "output_type": "error",
     "traceback": [
      "\u001b[1;36m  File \u001b[1;32m\"C:\\Users\\user\\AppData\\Local\\Temp/ipykernel_13712/486169499.py\"\u001b[1;36m, line \u001b[1;32m1\u001b[0m\n\u001b[1;33m    .value\u001b[0m\n\u001b[1;37m    ^\u001b[0m\n\u001b[1;31mSyntaxError\u001b[0m\u001b[1;31m:\u001b[0m invalid syntax\n"
     ]
    }
   ],
   "source": [
    ".value"
   ]
  },
  {
   "cell_type": "code",
   "execution_count": null,
   "id": "7195edac",
   "metadata": {},
   "outputs": [],
   "source": []
  }
 ],
 "metadata": {
  "kernelspec": {
   "display_name": "Python 3 (ipykernel)",
   "language": "python",
   "name": "python3"
  },
  "language_info": {
   "codemirror_mode": {
    "name": "ipython",
    "version": 3
   },
   "file_extension": ".py",
   "mimetype": "text/x-python",
   "name": "python",
   "nbconvert_exporter": "python",
   "pygments_lexer": "ipython3",
   "version": "3.10.0"
  }
 },
 "nbformat": 4,
 "nbformat_minor": 5
}
