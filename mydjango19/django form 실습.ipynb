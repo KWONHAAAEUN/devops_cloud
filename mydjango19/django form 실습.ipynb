{
 "cells": [
  {
   "cell_type": "code",
   "execution_count": 6,
   "id": "f80ad361",
   "metadata": {},
   "outputs": [],
   "source": [
    "import os\n",
    "\n",
    "os.environ[\"DJANGO_SETTINGS_MODULE\"] = \"mydjango17.settings\"\n",
    "os.environ[\"DJANGO_ALLOW_ASYNC_UNSAFE\"] = \"true\"\n",
    "\n",
    "import django\n",
    "django.setup()"
   ]
  },
  {
   "cell_type": "code",
   "execution_count": 16,
   "id": "c50aca4c",
   "metadata": {},
   "outputs": [],
   "source": [
    "from django import forms\n",
    "from django.core.validators import RegexValidator"
   ]
  },
  {
   "cell_type": "code",
   "execution_count": 17,
   "id": "cad0242b",
   "metadata": {},
   "outputs": [],
   "source": [
    "class PostForm(forms.Form):\n",
    "    title=forms.CharField()\n",
    "    content=forms.CharField()\n",
    "    phone=forms.CharField(\n",
    "        validators=[\n",
    "            RegexValidator(r\"^\\d{3}-?\\d{4}-?\\d{4}$\",message=\"휴대폰 번호를 입력해주세요\"),\n",
    "        ])"
   ]
  },
  {
   "cell_type": "markdown",
   "id": "94f1e552",
   "metadata": {},
   "source": [
    "# 입력 서식을 보여줍니다"
   ]
  },
  {
   "cell_type": "code",
   "execution_count": 18,
   "id": "24e7c41c",
   "metadata": {},
   "outputs": [
    {
     "data": {
      "text/plain": [
       "'<tr><th><label for=\"id_title\">Title:</label></th><td><input type=\"text\" name=\"title\" required id=\"id_title\"></td></tr>\\n<tr><th><label for=\"id_content\">Content:</label></th><td><input type=\"text\" name=\"content\" required id=\"id_content\"></td></tr>\\n<tr><th><label for=\"id_phone\">Phone:</label></th><td><input type=\"text\" name=\"phone\" required id=\"id_phone\"></td></tr>'"
      ]
     },
     "execution_count": 18,
     "metadata": {},
     "output_type": "execute_result"
    }
   ],
   "source": [
    "# 장고 Form을 통해, 입력 서식 HTML을 자동 생성\n",
    "form=PostForm()\n",
    "form.as_table()"
   ]
  },
  {
   "cell_type": "markdown",
   "id": "dc88fe3e",
   "metadata": {},
   "source": [
    "# 입력 서식에 유저가 값을 기입하고, 저장(submit)을 눌렀을 때"
   ]
  },
  {
   "cell_type": "code",
   "execution_count": 19,
   "id": "8c497896",
   "metadata": {},
   "outputs": [
    {
     "name": "stdout",
     "output_type": "stream",
     "text": [
      "에러 메세지 HTML: <ul class=\"errorlist\"><li>title<ul class=\"errorlist\"><li>This field is required.</li></ul></li><li>content<ul class=\"errorlist\"><li>This field is required.</li></ul></li><li>phone<ul class=\"errorlist\"><li>휴대폰 번호를 입력해주세요</li></ul></li></ul>\n"
     ]
    }
   ],
   "source": [
    "data={\n",
    "    \"title\":\"\",\n",
    "    \"content\":\"\",\n",
    "    \"phone\":\"010a12341234\"\n",
    "}\n",
    "form=PostForm(data)\n",
    "if form.is_valid():\n",
    "    print(\"유효성 검사 통과한 값들:\",form.cleaned_data)\n",
    "else:\n",
    "    print(\"에러 메세지 HTML:\",form.errors)"
   ]
  },
  {
   "cell_type": "code",
   "execution_count": null,
   "id": "4a79e766",
   "metadata": {},
   "outputs": [],
   "source": []
  },
  {
   "cell_type": "code",
   "execution_count": null,
   "id": "7085a3de",
   "metadata": {},
   "outputs": [],
   "source": []
  },
  {
   "cell_type": "code",
   "execution_count": null,
   "id": "9905a343",
   "metadata": {},
   "outputs": [],
   "source": []
  },
  {
   "cell_type": "code",
   "execution_count": null,
   "id": "390a4a9c",
   "metadata": {},
   "outputs": [],
   "source": []
  },
  {
   "cell_type": "code",
   "execution_count": null,
   "id": "2fcb6490",
   "metadata": {},
   "outputs": [],
   "source": []
  },
  {
   "cell_type": "code",
   "execution_count": null,
   "id": "52a9dcd1",
   "metadata": {},
   "outputs": [],
   "source": []
  },
  {
   "cell_type": "code",
   "execution_count": null,
   "id": "9618c6ee",
   "metadata": {},
   "outputs": [],
   "source": []
  },
  {
   "cell_type": "code",
   "execution_count": null,
   "id": "9797f9b4",
   "metadata": {},
   "outputs": [],
   "source": []
  },
  {
   "cell_type": "code",
   "execution_count": null,
   "id": "21722738",
   "metadata": {},
   "outputs": [],
   "source": []
  },
  {
   "cell_type": "code",
   "execution_count": null,
   "id": "9d247ba9",
   "metadata": {},
   "outputs": [],
   "source": []
  }
 ],
 "metadata": {
  "kernelspec": {
   "display_name": "Python 3 (ipykernel)",
   "language": "python",
   "name": "python3"
  },
  "language_info": {
   "codemirror_mode": {
    "name": "ipython",
    "version": 3
   },
   "file_extension": ".py",
   "mimetype": "text/x-python",
   "name": "python",
   "nbconvert_exporter": "python",
   "pygments_lexer": "ipython3",
   "version": "3.10.0"
  }
 },
 "nbformat": 4,
 "nbformat_minor": 5
}
