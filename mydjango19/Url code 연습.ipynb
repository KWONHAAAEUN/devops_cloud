{
 "cells": [
  {
   "cell_type": "code",
   "execution_count": 1,
   "id": "88b5fbbb",
   "metadata": {},
   "outputs": [],
   "source": [
    "from urllib.parse import urlencode"
   ]
  },
  {
   "cell_type": "code",
   "execution_count": 2,
   "id": "3f9e3341",
   "metadata": {},
   "outputs": [],
   "source": [
    "data = {\n",
    "    \"key1\":\"value1\",\n",
    "    \"key2\":10,\n",
    "    \"name\":\"하은소녀단\",\n",
    "}"
   ]
  },
  {
   "cell_type": "code",
   "execution_count": 3,
   "id": "be3cae7c",
   "metadata": {},
   "outputs": [
    {
     "data": {
      "text/plain": [
       "'key1=value1&key2=10&name=%ED%95%98%EC%9D%80%EC%86%8C%EB%85%80%EB%8B%A8'"
      ]
     },
     "execution_count": 3,
     "metadata": {},
     "output_type": "execute_result"
    }
   ],
   "source": [
    "# urlencoded 방식으로 인코딩\n",
    "urlencode(data)"
   ]
  },
  {
   "cell_type": "code",
   "execution_count": 4,
   "id": "41119ad0",
   "metadata": {},
   "outputs": [
    {
     "data": {
      "text/plain": [
       "b'\\xeb\\xb0\\xa9\\xed\\x83\\x84\\xec\\x86\\x8c\\xeb\\x85\\x84\\xeb\\x8b\\xa8'"
      ]
     },
     "execution_count": 4,
     "metadata": {},
     "output_type": "execute_result"
    }
   ],
   "source": [
    "\"방탄소년단\".encode(\"utf8\")"
   ]
  },
  {
   "cell_type": "code",
   "execution_count": 5,
   "id": "ec80fd8d",
   "metadata": {},
   "outputs": [
    {
     "data": {
      "text/plain": [
       "b'\\xb9\\xe6\\xc5\\xba\\xbc\\xd2\\xb3\\xe2\\xb4\\xdc'"
      ]
     },
     "execution_count": 5,
     "metadata": {},
     "output_type": "execute_result"
    }
   ],
   "source": [
    "\"방탄소년단\".encode(\"cp949\")"
   ]
  },
  {
   "cell_type": "code",
   "execution_count": 6,
   "id": "b1e806a9",
   "metadata": {},
   "outputs": [
    {
     "data": {
      "text/plain": [
       "'방탄소년단'"
      ]
     },
     "execution_count": 6,
     "metadata": {},
     "output_type": "execute_result"
    }
   ],
   "source": [
    "\"방탄소년단\".encode(\"cp949\").decode(\"cp949\")"
   ]
  },
  {
   "cell_type": "code",
   "execution_count": null,
   "id": "dea0a69e",
   "metadata": {},
   "outputs": [],
   "source": []
  }
 ],
 "metadata": {
  "kernelspec": {
   "display_name": "Python 3 (ipykernel)",
   "language": "python",
   "name": "python3"
  },
  "language_info": {
   "codemirror_mode": {
    "name": "ipython",
    "version": 3
   },
   "file_extension": ".py",
   "mimetype": "text/x-python",
   "name": "python",
   "nbconvert_exporter": "python",
   "pygments_lexer": "ipython3",
   "version": "3.10.0"
  }
 },
 "nbformat": 4,
 "nbformat_minor": 5
}
