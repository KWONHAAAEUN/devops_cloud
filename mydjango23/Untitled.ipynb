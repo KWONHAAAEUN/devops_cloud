{
 "cells": [
  {
   "cell_type": "code",
   "execution_count": 10,
   "id": "4302d269",
   "metadata": {},
   "outputs": [],
   "source": [
    "import os\n",
    "os.environ[\"DJANGO_SETTINGS_MODULE\"]=\"mydjango23.settings\"\n",
    "os.environ[\"DJANGO_ALLOW_ASYNC_UNSAFE\"]=\"true\"\n",
    "\n",
    "import django\n",
    "django.setup()"
   ]
  },
  {
   "cell_type": "code",
   "execution_count": 11,
   "id": "67c3b8e4",
   "metadata": {},
   "outputs": [],
   "source": [
    "from blog.models import Post"
   ]
  },
  {
   "cell_type": "code",
   "execution_count": 12,
   "id": "0bf2e56b",
   "metadata": {},
   "outputs": [
    {
     "data": {
      "text/plain": [
       "<dataset object>"
      ]
     },
     "execution_count": 12,
     "metadata": {},
     "output_type": "execute_result"
    }
   ],
   "source": [
    "import tablib\n",
    "\n",
    "dataset=tablib.Dataset()\n",
    "dataset.headers=[\"id\",\"title\",\"created_at\",\"updated_at\"]\n",
    "dataset"
   ]
  },
  {
   "cell_type": "code",
   "execution_count": 16,
   "id": "b8e144f4",
   "metadata": {},
   "outputs": [
    {
     "name": "stderr",
     "output_type": "stream",
     "text": [
      "(0.000) SELECT \"blog_post\".\"id\", \"blog_post\".\"created_at\", \"blog_post\".\"updated_at\", \"blog_post\".\"category_id\", \"blog_post\".\"title\", \"blog_post\".\"content\", \"blog_post\".\"photo\", \"blog_post\".\"status\" FROM \"blog_post\" ORDER BY \"blog_post\".\"id\" DESC; args=()\n"
     ]
    }
   ],
   "source": [
    "dict_list=[]\n",
    "\n",
    "for post in Post.objects.all():\n",
    "    dict_list.append({\n",
    "        \"id\":post.id,\n",
    "        \"title\":post.title,\n",
    "        # tzinfo가 있는 datetime 객체는 tablib에서 반환이 현재 지원되지 않아\n",
    "        # 문자열로 변환하겠다\n",
    "        \"created_at\":post.created_at.strftime(\"%Y-%m-%d %H:%M:%S\"),\n",
    "        \"updated_at\":post.updated_at.strftime(\"%Y-%m-%d %H:%M:%S\"),\n",
    "    })"
   ]
  },
  {
   "cell_type": "code",
   "execution_count": 17,
   "id": "b867a81e",
   "metadata": {},
   "outputs": [
    {
     "data": {
      "text/plain": [
       "'[]'"
      ]
     },
     "execution_count": 17,
     "metadata": {},
     "output_type": "execute_result"
    }
   ],
   "source": [
    "dataset.export(\"json\")"
   ]
  },
  {
   "cell_type": "code",
   "execution_count": 18,
   "id": "7686042a",
   "metadata": {},
   "outputs": [],
   "source": [
    "xlsx_data:bytes=dataset.export(\"xlsx\")\n",
    "\n",
    "# wb: wriet(새롭게 생성),binary (bytes 타입을 쓴다)\n",
    "with open(\"포스팅 내역.xlsx\",\"wb\") as f:\n",
    "    f.write(xlsx_data)"
   ]
  },
  {
   "cell_type": "code",
   "execution_count": null,
   "id": "3edbc0bc",
   "metadata": {},
   "outputs": [],
   "source": []
  }
 ],
 "metadata": {
  "kernelspec": {
   "display_name": "Python 3 (ipykernel)",
   "language": "python",
   "name": "python3"
  },
  "language_info": {
   "codemirror_mode": {
    "name": "ipython",
    "version": 3
   },
   "file_extension": ".py",
   "mimetype": "text/x-python",
   "name": "python",
   "nbconvert_exporter": "python",
   "pygments_lexer": "ipython3",
   "version": "3.10.0"
  }
 },
 "nbformat": 4,
 "nbformat_minor": 5
}
