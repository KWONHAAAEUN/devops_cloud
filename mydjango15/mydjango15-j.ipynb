{
 "cells": [
  {
   "cell_type": "code",
   "execution_count": 1,
   "id": "c2dcbd52",
   "metadata": {},
   "outputs": [],
   "source": [
    "import os\n",
    "os.environ[\"DJANGO_SETTINGS_MODULE\"] = \"mydjango15.settings\"\n",
    "os.environ[\"DJANGO_ALLOW_ASYNC_UNSAFE\"] = \"true\"\n",
    "\n",
    "import django\n",
    "django.setup()"
   ]
  },
  {
   "cell_type": "code",
   "execution_count": 32,
   "id": "99554422",
   "metadata": {},
   "outputs": [
    {
     "data": {
      "text/plain": [
       "[['name', 'description', 'address', 'coordinates', 'telephone'],\n",
       " ['옥천식당',\n",
       "  '혼밥하기 좋아요\\n친절하시고 양도 많아요',\n",
       "  '대전 동구 동대전로 68-16',\n",
       "  '36.3289659,127.4421576',\n",
       "  '042-272-1110'],\n",
       " ['어글리딜리셔스',\n",
       "  '웨이팅해서 들어갔는데 웨이팅을 할 만한 곳..\\n오겹살 포르게따는 꼭 드세요 너무 맛있어요',\n",
       "  '대전 동구 백룡로 14번길 65',\n",
       "  '36.3331706,127.4470956',\n",
       "  '0507-1376-7459'],\n",
       " ['샤브쌈주머니',\n",
       "  '소스가 테이블마다 놓여지는 방식으로 바뀌어서 좋아요\\n재료도 신선하고 매장도 넓습니다',\n",
       "  '대전 동구 동대전로 46번길 11',\n",
       "  '36.3378151,127.4447644',\n",
       "  '042-622-1633'],\n",
       " ['율랑이네 김밥',\n",
       "  '버정 앞에 있어서 한 번 들렀다가 그 이후로는 여기 김밥만 찾아요\\n사장님 부부 두 분 다 너무 친절하시고 김밥 속이 알차요',\n",
       "  '대전 동구 동대전로 99',\n",
       "  '36.3312624,127.443929',\n",
       "  '0507-1461-8703'],\n",
       " ['감성도야지',\n",
       "  '고기는 맛있는데 된찌 3천원은 조금 아까웠어요\\n고기가 맛있으면 됐죠!',\n",
       "  '대전 동구 동대전로 110',\n",
       "  '36.3378151,127.4447644',\n",
       "  '0507-1448-8264'],\n",
       " ['대전옥',\n",
       "  '소문난 맛집인데 좀만 더 친절하셨으면 좋겠어요',\n",
       "  '대전 동구 대동천우안4길 74',\n",
       "  '36.331474,127.4400357',\n",
       "  '042-472-8668'],\n",
       " ['명월본가수라상',\n",
       "  '맛은 있는데 간이 조금 짰어요',\n",
       "  '대전 동구 계족로 184-23',\n",
       "  '36.3311501,127.4430409',\n",
       "  '042-622-5533'],\n",
       " ['줄리앤칩',\n",
       "  '세트메뉴 가성비가 좋고 메뉴는 보통 이상 맛입니다\\n입구부터 매장 안 인테리어 감성사진 찍기 좋아요',\n",
       "  '대전 동구 용대길 4',\n",
       "  '36.32360329999999,127.4467912',\n",
       "  '042-623-8748'],\n",
       " ['대동골순대',\n",
       "  '진짜 제가 먹어본 돼지국밥 중에 제일 별로였어요...\\n참고 먹은 저에게(사실 안 먹음) 별 5개 줍니다',\n",
       "  '대전 동구 백룡로 6번길 115',\n",
       "  '36.3314381,127.445085',\n",
       "  '042-257-7648'],\n",
       " ['신선칼국수',\n",
       "  '물총칼국수 국물이 깔끔하니 맛나요\\n감자전은 두껍고 신선하지 않았어요',\n",
       "  '대전 동구 계족로 188',\n",
       "  '36.3303941,127.4422889',\n",
       "  '042-335-5252']]"
      ]
     },
     "execution_count": 32,
     "metadata": {},
     "output_type": "execute_result"
    }
   ],
   "source": [
    "#pip install openpyxl\n",
    "from openpyxl import load_workbook\n",
    "wb = load_workbook('mydjango15-data.xlsx')\n",
    "sheet = wb.active\n",
    "rows = [\n",
    "   [column.value for column in row]\n",
    "   for row in sheet\n",
    "]\n",
    "rows"
   ]
  },
  {
   "cell_type": "code",
   "execution_count": 33,
   "id": "cb58eb32",
   "metadata": {},
   "outputs": [
    {
     "data": {
      "text/plain": [
       "['name', 'description', 'address', 'coordinates', 'telephone']"
      ]
     },
     "execution_count": 33,
     "metadata": {},
     "output_type": "execute_result"
    }
   ],
   "source": [
    "column_names=rows[0]\n",
    "column_names"
   ]
  },
  {
   "cell_type": "code",
   "execution_count": 36,
   "id": "2e6e5d61",
   "metadata": {
    "scrolled": true
   },
   "outputs": [
    {
     "data": {
      "text/plain": [
       "[{'name': '옥천식당',\n",
       "  'description': '혼밥하기 좋아요\\n친절하시고 양도 많아요',\n",
       "  'address': '대전 동구 동대전로 68-16',\n",
       "  'telephone': '042-272-1110',\n",
       "  'latitude': '36.3289659',\n",
       "  'longitude': '127.4421576'},\n",
       " {'name': '어글리딜리셔스',\n",
       "  'description': '웨이팅해서 들어갔는데 웨이팅을 할 만한 곳..\\n오겹살 포르게따는 꼭 드세요 너무 맛있어요',\n",
       "  'address': '대전 동구 백룡로 14번길 65',\n",
       "  'telephone': '0507-1376-7459',\n",
       "  'latitude': '36.3331706',\n",
       "  'longitude': '127.4470956'},\n",
       " {'name': '샤브쌈주머니',\n",
       "  'description': '소스가 테이블마다 놓여지는 방식으로 바뀌어서 좋아요\\n재료도 신선하고 매장도 넓습니다',\n",
       "  'address': '대전 동구 동대전로 46번길 11',\n",
       "  'telephone': '042-622-1633',\n",
       "  'latitude': '36.3378151',\n",
       "  'longitude': '127.4447644'},\n",
       " {'name': '율랑이네 김밥',\n",
       "  'description': '버정 앞에 있어서 한 번 들렀다가 그 이후로는 여기 김밥만 찾아요\\n사장님 부부 두 분 다 너무 친절하시고 김밥 속이 알차요',\n",
       "  'address': '대전 동구 동대전로 99',\n",
       "  'telephone': '0507-1461-8703',\n",
       "  'latitude': '36.3312624',\n",
       "  'longitude': '127.443929'},\n",
       " {'name': '감성도야지',\n",
       "  'description': '고기는 맛있는데 된찌 3천원은 조금 아까웠어요\\n고기가 맛있으면 됐죠!',\n",
       "  'address': '대전 동구 동대전로 110',\n",
       "  'telephone': '0507-1448-8264',\n",
       "  'latitude': '36.3378151',\n",
       "  'longitude': '127.4447644'},\n",
       " {'name': '대전옥',\n",
       "  'description': '소문난 맛집인데 좀만 더 친절하셨으면 좋겠어요',\n",
       "  'address': '대전 동구 대동천우안4길 74',\n",
       "  'telephone': '042-472-8668',\n",
       "  'latitude': '36.331474',\n",
       "  'longitude': '127.4400357'},\n",
       " {'name': '명월본가수라상',\n",
       "  'description': '맛은 있는데 간이 조금 짰어요',\n",
       "  'address': '대전 동구 계족로 184-23',\n",
       "  'telephone': '042-622-5533',\n",
       "  'latitude': '36.3311501',\n",
       "  'longitude': '127.4430409'},\n",
       " {'name': '줄리앤칩',\n",
       "  'description': '세트메뉴 가성비가 좋고 메뉴는 보통 이상 맛입니다\\n입구부터 매장 안 인테리어 감성사진 찍기 좋아요',\n",
       "  'address': '대전 동구 용대길 4',\n",
       "  'telephone': '042-623-8748',\n",
       "  'latitude': '36.32360329999999',\n",
       "  'longitude': '127.4467912'},\n",
       " {'name': '대동골순대',\n",
       "  'description': '진짜 제가 먹어본 돼지국밥 중에 제일 별로였어요...\\n참고 먹은 저에게(사실 안 먹음) 별 5개 줍니다',\n",
       "  'address': '대전 동구 백룡로 6번길 115',\n",
       "  'telephone': '042-257-7648',\n",
       "  'latitude': '36.3314381',\n",
       "  'longitude': '127.445085'},\n",
       " {'name': '신선칼국수',\n",
       "  'description': '물총칼국수 국물이 깔끔하니 맛나요\\n감자전은 두껍고 신선하지 않았어요',\n",
       "  'address': '대전 동구 계족로 188',\n",
       "  'telephone': '042-335-5252',\n",
       "  'latitude': '36.3303941',\n",
       "  'longitude': '127.4422889'}]"
      ]
     },
     "execution_count": 36,
     "metadata": {},
     "output_type": "execute_result"
    }
   ],
   "source": [
    "row_list=[]\n",
    "\n",
    "for row in rows[1:]:\n",
    "    if row [0] is None:\n",
    "        break\n",
    "    row_dict=dict(zip(column_names,row))\n",
    "    latitude, longitude=row_dict[\"coordinates\"].split(\",\")\n",
    "    row_dict[\"latitude\"]=latitude\n",
    "    row_dict[\"longitude\"]=longitude\n",
    "    del row_dict[\"coordinates\"]\n",
    "    row_list.append(row_dict)\n",
    "    \n",
    "row_list"
   ]
  },
  {
   "cell_type": "code",
   "execution_count": 37,
   "id": "41e54cb9",
   "metadata": {},
   "outputs": [],
   "source": [
    "from delicious.models import Shop"
   ]
  },
  {
   "cell_type": "code",
   "execution_count": 38,
   "id": "9a9ddc1a",
   "metadata": {},
   "outputs": [
    {
     "name": "stdout",
     "output_type": "stream",
     "text": [
      "Shop object (1)\n",
      "Shop object (2)\n",
      "Shop object (3)\n",
      "Shop object (4)\n",
      "Shop object (5)\n",
      "Shop object (6)\n",
      "Shop object (7)\n",
      "Shop object (8)\n",
      "Shop object (9)\n",
      "Shop object (10)\n"
     ]
    }
   ],
   "source": [
    "for row_dict in row_list:\n",
    "    shop=Shop(**row_dict) #unpack\n",
    "    shop.save()\n",
    "    print(shop)"
   ]
  },
  {
   "cell_type": "code",
   "execution_count": null,
   "id": "c51bc041",
   "metadata": {},
   "outputs": [],
   "source": []
  }
 ],
 "metadata": {
  "kernelspec": {
   "display_name": "Python 3 (ipykernel)",
   "language": "python",
   "name": "python3"
  },
  "language_info": {
   "codemirror_mode": {
    "name": "ipython",
    "version": 3
   },
   "file_extension": ".py",
   "mimetype": "text/x-python",
   "name": "python",
   "nbconvert_exporter": "python",
   "pygments_lexer": "ipython3",
   "version": "3.10.0"
  }
 },
 "nbformat": 4,
 "nbformat_minor": 5
}
